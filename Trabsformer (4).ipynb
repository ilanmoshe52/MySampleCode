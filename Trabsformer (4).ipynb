{
  "cells": [
    {
      "cell_type": "code",
      "source": [
        "import tensorflow as tf\n",
        "from tensorflow import math, matmul, reshape, shape, transpose, cast, float32"
      ],
      "metadata": {
        "id": "qjVGtgM9GDlr"
      },
      "execution_count": null,
      "outputs": []
    },
    {
      "cell_type": "code",
      "source": [],
      "metadata": {
        "id": "VKRGtu90BK7H"
      },
      "execution_count": null,
      "outputs": []
    },
    {
      "cell_type": "code",
      "source": [
        "x = tf.constant([[[1, 2, 3, 4], [5, 6, 7, 8], [9, 10, 11, 12]],\n",
        "                       [[13, 14, 15, 16], [17, 18, 19, 20], [21, 22, 23, 24]]])\n",
        "#x = tf.constant([[1, 2, 3], [4, 5, 6], [7, 8, 9]])\n",
        "x"
      ],
      "metadata": {
        "colab": {
          "base_uri": "https://localhost:8080/"
        },
        "id": "SUKr79P9GBf0",
        "outputId": "14085885-7243-43fe-93de-d78c65664d12"
      },
      "execution_count": null,
      "outputs": [
        {
          "output_type": "execute_result",
          "data": {
            "text/plain": [
              "<tf.Tensor: shape=(2, 3, 4), dtype=int32, numpy=\n",
              "array([[[ 1,  2,  3,  4],\n",
              "        [ 5,  6,  7,  8],\n",
              "        [ 9, 10, 11, 12]],\n",
              "\n",
              "       [[13, 14, 15, 16],\n",
              "        [17, 18, 19, 20],\n",
              "        [21, 22, 23, 24]]], dtype=int32)>"
            ]
          },
          "metadata": {},
          "execution_count": 28
        }
      ]
    },
    {
      "cell_type": "code",
      "source": [
        "tf.transpose(x)"
      ],
      "metadata": {
        "colab": {
          "base_uri": "https://localhost:8080/"
        },
        "id": "anjhjeQ-F5Qu",
        "outputId": "b219d563-00b3-4879-fcb4-08354365587c"
      },
      "execution_count": null,
      "outputs": [
        {
          "output_type": "execute_result",
          "data": {
            "text/plain": [
              "<tf.Tensor: shape=(4, 3, 2), dtype=int32, numpy=\n",
              "array([[[ 1, 13],\n",
              "        [ 5, 17],\n",
              "        [ 9, 21]],\n",
              "\n",
              "       [[ 2, 14],\n",
              "        [ 6, 18],\n",
              "        [10, 22]],\n",
              "\n",
              "       [[ 3, 15],\n",
              "        [ 7, 19],\n",
              "        [11, 23]],\n",
              "\n",
              "       [[ 4, 16],\n",
              "        [ 8, 20],\n",
              "        [12, 24]]], dtype=int32)>"
            ]
          },
          "metadata": {},
          "execution_count": 29
        }
      ]
    },
    {
      "cell_type": "code",
      "source": [
        "x  ,tf.transpose(x) , tf.transpose(x, perm=[0, 1,2]) , tf.transpose(x, perm=[1, 2,0])"
      ],
      "metadata": {
        "colab": {
          "base_uri": "https://localhost:8080/"
        },
        "id": "C8T-2aRXGdXk",
        "outputId": "04bc60ea-5c96-4c57-97a2-3e497132641d"
      },
      "execution_count": null,
      "outputs": [
        {
          "output_type": "execute_result",
          "data": {
            "text/plain": [
              "(<tf.Tensor: shape=(2, 3, 4), dtype=int32, numpy=\n",
              " array([[[ 1,  2,  3,  4],\n",
              "         [ 5,  6,  7,  8],\n",
              "         [ 9, 10, 11, 12]],\n",
              " \n",
              "        [[13, 14, 15, 16],\n",
              "         [17, 18, 19, 20],\n",
              "         [21, 22, 23, 24]]], dtype=int32)>,\n",
              " <tf.Tensor: shape=(4, 3, 2), dtype=int32, numpy=\n",
              " array([[[ 1, 13],\n",
              "         [ 5, 17],\n",
              "         [ 9, 21]],\n",
              " \n",
              "        [[ 2, 14],\n",
              "         [ 6, 18],\n",
              "         [10, 22]],\n",
              " \n",
              "        [[ 3, 15],\n",
              "         [ 7, 19],\n",
              "         [11, 23]],\n",
              " \n",
              "        [[ 4, 16],\n",
              "         [ 8, 20],\n",
              "         [12, 24]]], dtype=int32)>,\n",
              " <tf.Tensor: shape=(2, 3, 4), dtype=int32, numpy=\n",
              " array([[[ 1,  2,  3,  4],\n",
              "         [ 5,  6,  7,  8],\n",
              "         [ 9, 10, 11, 12]],\n",
              " \n",
              "        [[13, 14, 15, 16],\n",
              "         [17, 18, 19, 20],\n",
              "         [21, 22, 23, 24]]], dtype=int32)>,\n",
              " <tf.Tensor: shape=(3, 4, 2), dtype=int32, numpy=\n",
              " array([[[ 1, 13],\n",
              "         [ 2, 14],\n",
              "         [ 3, 15],\n",
              "         [ 4, 16]],\n",
              " \n",
              "        [[ 5, 17],\n",
              "         [ 6, 18],\n",
              "         [ 7, 19],\n",
              "         [ 8, 20]],\n",
              " \n",
              "        [[ 9, 21],\n",
              "         [10, 22],\n",
              "         [11, 23],\n",
              "         [12, 24]]], dtype=int32)>)"
            ]
          },
          "metadata": {},
          "execution_count": 32
        }
      ]
    },
    {
      "cell_type": "code",
      "source": [
        "t = [[1, 2, 3],\n",
        "     [4, 5, 6]]"
      ],
      "metadata": {
        "id": "WzOgwo4jMX8Q"
      },
      "execution_count": null,
      "outputs": []
    },
    {
      "cell_type": "code",
      "source": [
        "tf.reshape(t, [3, 2]).numpy()"
      ],
      "metadata": {
        "colab": {
          "base_uri": "https://localhost:8080/"
        },
        "id": "FcrkgqQpMbnm",
        "outputId": "2a9588fd-a4e0-460f-9068-2add7f5e5b36"
      },
      "execution_count": null,
      "outputs": [
        {
          "output_type": "execute_result",
          "data": {
            "text/plain": [
              "array([[1, 2],\n",
              "       [3, 4],\n",
              "       [5, 6]], dtype=int32)"
            ]
          },
          "metadata": {},
          "execution_count": 45
        }
      ]
    },
    {
      "cell_type": "code",
      "source": [
        "tf.transpose(t, perm=[1, 0]).numpy()"
      ],
      "metadata": {
        "colab": {
          "base_uri": "https://localhost:8080/"
        },
        "id": "zSzoix-6NMp9",
        "outputId": "50f24b9e-d7ab-45dc-f91f-9ca804d77fa1"
      },
      "execution_count": null,
      "outputs": [
        {
          "output_type": "execute_result",
          "data": {
            "text/plain": [
              "array([[1, 3, 5],\n",
              "       [2, 4, 6]], dtype=int32)"
            ]
          },
          "metadata": {},
          "execution_count": 50
        }
      ]
    },
    {
      "cell_type": "code",
      "source": [
        "import tensorflow as tf\n",
        "\n",
        "# Assume x is a 2D tensor with shape (batch_size, sequence_length)\n",
        "x = tf.constant([[1, 2, 3],\n",
        "                 [4, 5, 6]])\n",
        "\n",
        "# Get the shape of the tensor\n",
        "x_shape = tf.shape(x)\n",
        "\n",
        "# Reshape x with a new shape, where the third dimension is set to -1\n",
        "x_reshaped = tf.reshape(x, shape=(x_shape[0], x_shape[1], -1))\n",
        "print(x_shape[0], x_shape[1])\n",
        "\n",
        "# Print the reshaped tensor and its shape\n",
        "print(\"Original Tensor:\")\n",
        "print(x.numpy())\n",
        "print(\"Reshaped Tensor:\")\n",
        "print(x_reshaped.numpy())\n",
        "print(\"Shape after Reshaping:\")\n",
        "print(tf.shape(x_reshaped).numpy())\n"
      ],
      "metadata": {
        "id": "AShxoh8SPyMo",
        "outputId": "8f0eb7f0-e423-40d9-c38f-65e1a778c76a",
        "colab": {
          "base_uri": "https://localhost:8080/"
        }
      },
      "execution_count": null,
      "outputs": [
        {
          "output_type": "stream",
          "name": "stdout",
          "text": [
            "tf.Tensor(2, shape=(), dtype=int32) tf.Tensor(3, shape=(), dtype=int32)\n",
            "Original Tensor:\n",
            "[[1 2 3]\n",
            " [4 5 6]]\n",
            "Reshaped Tensor:\n",
            "[[[1]\n",
            "  [2]\n",
            "  [3]]\n",
            "\n",
            " [[4]\n",
            "  [5]\n",
            "  [6]]]\n",
            "Shape after Reshaping:\n",
            "[2 3 1]\n"
          ]
        }
      ]
    },
    {
      "cell_type": "code",
      "source": [
        "x = tf.constant([1.8, 2.2], dtype=tf.float32)\n",
        "x"
      ],
      "metadata": {
        "id": "DPcgMisBTH68",
        "outputId": "ee96d6a0-fa7f-4596-f3b0-01d9ba2cc196",
        "colab": {
          "base_uri": "https://localhost:8080/"
        }
      },
      "execution_count": null,
      "outputs": [
        {
          "output_type": "execute_result",
          "data": {
            "text/plain": [
              "<tf.Tensor: shape=(2,), dtype=float32, numpy=array([1.8, 2.2], dtype=float32)>"
            ]
          },
          "metadata": {},
          "execution_count": 58
        }
      ]
    },
    {
      "cell_type": "code",
      "source": [
        "tf.cast(x, tf.int32)"
      ],
      "metadata": {
        "id": "GJ2jfeq5TLX-",
        "outputId": "e532baa7-bd20-4096-ab3f-b06dc44d6a77",
        "colab": {
          "base_uri": "https://localhost:8080/"
        }
      },
      "execution_count": null,
      "outputs": [
        {
          "output_type": "execute_result",
          "data": {
            "text/plain": [
              "<tf.Tensor: shape=(2,), dtype=int32, numpy=array([1, 2], dtype=int32)>"
            ]
          },
          "metadata": {},
          "execution_count": 59
        }
      ]
    },
    {
      "cell_type": "code",
      "source": [
        "d_k = 64\n",
        "import math\n",
        "math.sqrt(d_k)"
      ],
      "metadata": {
        "id": "_dt_ggM0Th2v",
        "outputId": "425ba61b-6a64-42e5-87a5-8295e8b22a59",
        "colab": {
          "base_uri": "https://localhost:8080/"
        }
      },
      "execution_count": null,
      "outputs": [
        {
          "output_type": "execute_result",
          "data": {
            "text/plain": [
              "8.0"
            ]
          },
          "metadata": {},
          "execution_count": 62
        }
      ]
    },
    {
      "cell_type": "code",
      "source": [
        "class Example:\n",
        "    def __init__(self, **kwargs):\n",
        "        # kwargs is a dictionary containing any additional keyword arguments\n",
        "        self.kwargs = kwargs\n",
        "        self.name = kwargs['name']\n",
        "\n",
        "# Create an instance of the Example class with some keyword arguments\n",
        "example_instance = Example(name=\"John\", age=25, city=\"New York\")\n",
        "\n",
        "# Access the collected keyword arguments\n",
        "print(example_instance.kwargs['age'])\n",
        "print(example_instance.name)\n"
      ],
      "metadata": {
        "id": "W6-0LfZjUfdM",
        "outputId": "42314277-4a48-47db-a7f2-96e1898ac67b",
        "colab": {
          "base_uri": "https://localhost:8080/"
        }
      },
      "execution_count": null,
      "outputs": [
        {
          "output_type": "stream",
          "name": "stdout",
          "text": [
            "25\n",
            "John\n"
          ]
        }
      ]
    },
    {
      "cell_type": "code",
      "source": [
        "import numpy as np\n",
        "input  = np.random.rand(1,6,512)\n",
        "wq  = np.random.rand(512,64)\n",
        "output  = np.matmul(input,wq)\n",
        "output.shape"
      ],
      "metadata": {
        "id": "A0qKCgngBRsH",
        "colab": {
          "base_uri": "https://localhost:8080/"
        },
        "outputId": "c42a7b8d-3ec2-4817-f0ac-979e582f3f58"
      },
      "execution_count": null,
      "outputs": [
        {
          "output_type": "execute_result",
          "data": {
            "text/plain": [
              "(1, 6, 64)"
            ]
          },
          "metadata": {},
          "execution_count": 2
        }
      ]
    },
    {
      "cell_type": "code",
      "source": [
        "import tensorflow as tf\n",
        "\n",
        "# Create a dense layer\n",
        "dense_layer = tf.keras.layers.Dense(64)\n",
        "\n",
        "input  = np.random.rand(1,6,512)\n",
        "dense_layer(input)\n",
        "\n",
        "# Access the weight matrix\n",
        "weight_matrix = dense_layer.weights[0].numpy()  # Assuming you want the first weight (the kernel)\n",
        "\n",
        "# Get the shape of the weight matrix\n",
        "weight_matrix_shape = weight_matrix.shape\n",
        "\n",
        "print(\"Weight matrix shape:\", weight_matrix_shape)\n"
      ],
      "metadata": {
        "id": "NECvIuo0O88o",
        "colab": {
          "base_uri": "https://localhost:8080/"
        },
        "outputId": "122a8eb0-2977-47a7-f0e0-32f45f4183c7"
      },
      "execution_count": null,
      "outputs": [
        {
          "output_type": "stream",
          "name": "stdout",
          "text": [
            "Weight matrix shape: (512, 64)\n"
          ]
        }
      ]
    },
    {
      "cell_type": "code",
      "source": [
        "sequential_integers = np.arange(1 * 6 * 64)\n",
        "\n",
        "# Reshape the array to the desired shape\n",
        "array_shape = (1, 6, 64)\n",
        "result_array = sequential_integers.reshape(array_shape)\n",
        "result_array"
      ],
      "metadata": {
        "colab": {
          "base_uri": "https://localhost:8080/"
        },
        "id": "hllwGY-y0-YA",
        "outputId": "2de39b3e-5ef9-47e4-f655-c5db3688b74e"
      },
      "execution_count": null,
      "outputs": [
        {
          "output_type": "execute_result",
          "data": {
            "text/plain": [
              "array([[[  0,   1,   2,   3,   4,   5,   6,   7,   8,   9,  10,  11,\n",
              "          12,  13,  14,  15,  16,  17,  18,  19,  20,  21,  22,  23,\n",
              "          24,  25,  26,  27,  28,  29,  30,  31,  32,  33,  34,  35,\n",
              "          36,  37,  38,  39,  40,  41,  42,  43,  44,  45,  46,  47,\n",
              "          48,  49,  50,  51,  52,  53,  54,  55,  56,  57,  58,  59,\n",
              "          60,  61,  62,  63],\n",
              "        [ 64,  65,  66,  67,  68,  69,  70,  71,  72,  73,  74,  75,\n",
              "          76,  77,  78,  79,  80,  81,  82,  83,  84,  85,  86,  87,\n",
              "          88,  89,  90,  91,  92,  93,  94,  95,  96,  97,  98,  99,\n",
              "         100, 101, 102, 103, 104, 105, 106, 107, 108, 109, 110, 111,\n",
              "         112, 113, 114, 115, 116, 117, 118, 119, 120, 121, 122, 123,\n",
              "         124, 125, 126, 127],\n",
              "        [128, 129, 130, 131, 132, 133, 134, 135, 136, 137, 138, 139,\n",
              "         140, 141, 142, 143, 144, 145, 146, 147, 148, 149, 150, 151,\n",
              "         152, 153, 154, 155, 156, 157, 158, 159, 160, 161, 162, 163,\n",
              "         164, 165, 166, 167, 168, 169, 170, 171, 172, 173, 174, 175,\n",
              "         176, 177, 178, 179, 180, 181, 182, 183, 184, 185, 186, 187,\n",
              "         188, 189, 190, 191],\n",
              "        [192, 193, 194, 195, 196, 197, 198, 199, 200, 201, 202, 203,\n",
              "         204, 205, 206, 207, 208, 209, 210, 211, 212, 213, 214, 215,\n",
              "         216, 217, 218, 219, 220, 221, 222, 223, 224, 225, 226, 227,\n",
              "         228, 229, 230, 231, 232, 233, 234, 235, 236, 237, 238, 239,\n",
              "         240, 241, 242, 243, 244, 245, 246, 247, 248, 249, 250, 251,\n",
              "         252, 253, 254, 255],\n",
              "        [256, 257, 258, 259, 260, 261, 262, 263, 264, 265, 266, 267,\n",
              "         268, 269, 270, 271, 272, 273, 274, 275, 276, 277, 278, 279,\n",
              "         280, 281, 282, 283, 284, 285, 286, 287, 288, 289, 290, 291,\n",
              "         292, 293, 294, 295, 296, 297, 298, 299, 300, 301, 302, 303,\n",
              "         304, 305, 306, 307, 308, 309, 310, 311, 312, 313, 314, 315,\n",
              "         316, 317, 318, 319],\n",
              "        [320, 321, 322, 323, 324, 325, 326, 327, 328, 329, 330, 331,\n",
              "         332, 333, 334, 335, 336, 337, 338, 339, 340, 341, 342, 343,\n",
              "         344, 345, 346, 347, 348, 349, 350, 351, 352, 353, 354, 355,\n",
              "         356, 357, 358, 359, 360, 361, 362, 363, 364, 365, 366, 367,\n",
              "         368, 369, 370, 371, 372, 373, 374, 375, 376, 377, 378, 379,\n",
              "         380, 381, 382, 383]]])"
            ]
          },
          "metadata": {},
          "execution_count": 15
        }
      ]
    },
    {
      "cell_type": "code",
      "source": [
        "result_array = result_array.reshape(result_array.shape[0] , result_array.shape[1] , 8 , 8)"
      ],
      "metadata": {
        "id": "BxQZqx5C2UYs"
      },
      "execution_count": null,
      "outputs": []
    },
    {
      "cell_type": "code",
      "source": [
        "result_array"
      ],
      "metadata": {
        "colab": {
          "base_uri": "https://localhost:8080/"
        },
        "id": "ZIXNWccr4LAL",
        "outputId": "2a26d399-aff7-455f-a666-981455580cad"
      },
      "execution_count": null,
      "outputs": [
        {
          "output_type": "execute_result",
          "data": {
            "text/plain": [
              "array([[[[  0,   1,   2,   3,   4,   5,   6,   7],\n",
              "         [  8,   9,  10,  11,  12,  13,  14,  15],\n",
              "         [ 16,  17,  18,  19,  20,  21,  22,  23],\n",
              "         [ 24,  25,  26,  27,  28,  29,  30,  31],\n",
              "         [ 32,  33,  34,  35,  36,  37,  38,  39],\n",
              "         [ 40,  41,  42,  43,  44,  45,  46,  47],\n",
              "         [ 48,  49,  50,  51,  52,  53,  54,  55],\n",
              "         [ 56,  57,  58,  59,  60,  61,  62,  63]],\n",
              "\n",
              "        [[ 64,  65,  66,  67,  68,  69,  70,  71],\n",
              "         [ 72,  73,  74,  75,  76,  77,  78,  79],\n",
              "         [ 80,  81,  82,  83,  84,  85,  86,  87],\n",
              "         [ 88,  89,  90,  91,  92,  93,  94,  95],\n",
              "         [ 96,  97,  98,  99, 100, 101, 102, 103],\n",
              "         [104, 105, 106, 107, 108, 109, 110, 111],\n",
              "         [112, 113, 114, 115, 116, 117, 118, 119],\n",
              "         [120, 121, 122, 123, 124, 125, 126, 127]],\n",
              "\n",
              "        [[128, 129, 130, 131, 132, 133, 134, 135],\n",
              "         [136, 137, 138, 139, 140, 141, 142, 143],\n",
              "         [144, 145, 146, 147, 148, 149, 150, 151],\n",
              "         [152, 153, 154, 155, 156, 157, 158, 159],\n",
              "         [160, 161, 162, 163, 164, 165, 166, 167],\n",
              "         [168, 169, 170, 171, 172, 173, 174, 175],\n",
              "         [176, 177, 178, 179, 180, 181, 182, 183],\n",
              "         [184, 185, 186, 187, 188, 189, 190, 191]],\n",
              "\n",
              "        [[192, 193, 194, 195, 196, 197, 198, 199],\n",
              "         [200, 201, 202, 203, 204, 205, 206, 207],\n",
              "         [208, 209, 210, 211, 212, 213, 214, 215],\n",
              "         [216, 217, 218, 219, 220, 221, 222, 223],\n",
              "         [224, 225, 226, 227, 228, 229, 230, 231],\n",
              "         [232, 233, 234, 235, 236, 237, 238, 239],\n",
              "         [240, 241, 242, 243, 244, 245, 246, 247],\n",
              "         [248, 249, 250, 251, 252, 253, 254, 255]],\n",
              "\n",
              "        [[256, 257, 258, 259, 260, 261, 262, 263],\n",
              "         [264, 265, 266, 267, 268, 269, 270, 271],\n",
              "         [272, 273, 274, 275, 276, 277, 278, 279],\n",
              "         [280, 281, 282, 283, 284, 285, 286, 287],\n",
              "         [288, 289, 290, 291, 292, 293, 294, 295],\n",
              "         [296, 297, 298, 299, 300, 301, 302, 303],\n",
              "         [304, 305, 306, 307, 308, 309, 310, 311],\n",
              "         [312, 313, 314, 315, 316, 317, 318, 319]],\n",
              "\n",
              "        [[320, 321, 322, 323, 324, 325, 326, 327],\n",
              "         [328, 329, 330, 331, 332, 333, 334, 335],\n",
              "         [336, 337, 338, 339, 340, 341, 342, 343],\n",
              "         [344, 345, 346, 347, 348, 349, 350, 351],\n",
              "         [352, 353, 354, 355, 356, 357, 358, 359],\n",
              "         [360, 361, 362, 363, 364, 365, 366, 367],\n",
              "         [368, 369, 370, 371, 372, 373, 374, 375],\n",
              "         [376, 377, 378, 379, 380, 381, 382, 383]]]])"
            ]
          },
          "metadata": {},
          "execution_count": 23
        }
      ]
    },
    {
      "cell_type": "code",
      "source": [
        "res = tf.transpose( result_array, perm=[0, 2 , 1, 3] )"
      ],
      "metadata": {
        "id": "fbCNdW2_3Y-N"
      },
      "execution_count": null,
      "outputs": []
    },
    {
      "cell_type": "code",
      "source": [
        "res"
      ],
      "metadata": {
        "colab": {
          "base_uri": "https://localhost:8080/"
        },
        "id": "8MAtzkO-4d4D",
        "outputId": "1d15ed96-39e0-4939-aba5-23486e5694be"
      },
      "execution_count": null,
      "outputs": [
        {
          "output_type": "execute_result",
          "data": {
            "text/plain": [
              "<tf.Tensor: shape=(1, 8, 6, 8), dtype=int64, numpy=\n",
              "array([[[[  0,   1,   2,   3,   4,   5,   6,   7],\n",
              "         [ 64,  65,  66,  67,  68,  69,  70,  71],\n",
              "         [128, 129, 130, 131, 132, 133, 134, 135],\n",
              "         [192, 193, 194, 195, 196, 197, 198, 199],\n",
              "         [256, 257, 258, 259, 260, 261, 262, 263],\n",
              "         [320, 321, 322, 323, 324, 325, 326, 327]],\n",
              "\n",
              "        [[  8,   9,  10,  11,  12,  13,  14,  15],\n",
              "         [ 72,  73,  74,  75,  76,  77,  78,  79],\n",
              "         [136, 137, 138, 139, 140, 141, 142, 143],\n",
              "         [200, 201, 202, 203, 204, 205, 206, 207],\n",
              "         [264, 265, 266, 267, 268, 269, 270, 271],\n",
              "         [328, 329, 330, 331, 332, 333, 334, 335]],\n",
              "\n",
              "        [[ 16,  17,  18,  19,  20,  21,  22,  23],\n",
              "         [ 80,  81,  82,  83,  84,  85,  86,  87],\n",
              "         [144, 145, 146, 147, 148, 149, 150, 151],\n",
              "         [208, 209, 210, 211, 212, 213, 214, 215],\n",
              "         [272, 273, 274, 275, 276, 277, 278, 279],\n",
              "         [336, 337, 338, 339, 340, 341, 342, 343]],\n",
              "\n",
              "        [[ 24,  25,  26,  27,  28,  29,  30,  31],\n",
              "         [ 88,  89,  90,  91,  92,  93,  94,  95],\n",
              "         [152, 153, 154, 155, 156, 157, 158, 159],\n",
              "         [216, 217, 218, 219, 220, 221, 222, 223],\n",
              "         [280, 281, 282, 283, 284, 285, 286, 287],\n",
              "         [344, 345, 346, 347, 348, 349, 350, 351]],\n",
              "\n",
              "        [[ 32,  33,  34,  35,  36,  37,  38,  39],\n",
              "         [ 96,  97,  98,  99, 100, 101, 102, 103],\n",
              "         [160, 161, 162, 163, 164, 165, 166, 167],\n",
              "         [224, 225, 226, 227, 228, 229, 230, 231],\n",
              "         [288, 289, 290, 291, 292, 293, 294, 295],\n",
              "         [352, 353, 354, 355, 356, 357, 358, 359]],\n",
              "\n",
              "        [[ 40,  41,  42,  43,  44,  45,  46,  47],\n",
              "         [104, 105, 106, 107, 108, 109, 110, 111],\n",
              "         [168, 169, 170, 171, 172, 173, 174, 175],\n",
              "         [232, 233, 234, 235, 236, 237, 238, 239],\n",
              "         [296, 297, 298, 299, 300, 301, 302, 303],\n",
              "         [360, 361, 362, 363, 364, 365, 366, 367]],\n",
              "\n",
              "        [[ 48,  49,  50,  51,  52,  53,  54,  55],\n",
              "         [112, 113, 114, 115, 116, 117, 118, 119],\n",
              "         [176, 177, 178, 179, 180, 181, 182, 183],\n",
              "         [240, 241, 242, 243, 244, 245, 246, 247],\n",
              "         [304, 305, 306, 307, 308, 309, 310, 311],\n",
              "         [368, 369, 370, 371, 372, 373, 374, 375]],\n",
              "\n",
              "        [[ 56,  57,  58,  59,  60,  61,  62,  63],\n",
              "         [120, 121, 122, 123, 124, 125, 126, 127],\n",
              "         [184, 185, 186, 187, 188, 189, 190, 191],\n",
              "         [248, 249, 250, 251, 252, 253, 254, 255],\n",
              "         [312, 313, 314, 315, 316, 317, 318, 319],\n",
              "         [376, 377, 378, 379, 380, 381, 382, 383]]]])>"
            ]
          },
          "metadata": {},
          "execution_count": 26
        }
      ]
    },
    {
      "cell_type": "code",
      "source": [
        "integers = np.arange(1 * 8 * 6 * 8)\n",
        "\n",
        "# Reshape the array to the desired shape\n",
        "array_shape = (1, 8, 6 ,8)\n",
        "result = integers.reshape(array_shape)\n",
        "result1 = result\n",
        "res2 = tf.matmul(result,result1 , transpose_b=True)\n",
        "res2.shape"
      ],
      "metadata": {
        "colab": {
          "base_uri": "https://localhost:8080/",
          "height": 404
        },
        "id": "pZZr9jYtYVOo",
        "outputId": "3e9bed34-ce48-4d52-9b7a-d5a012a95ea1"
      },
      "execution_count": null,
      "outputs": [
        {
          "output_type": "error",
          "ename": "InvalidArgumentError",
          "evalue": "{{function_node __wrapped__BatchMatMulV2_device_/job:localhost/replica:0/task:0/device:CPU:0}} Matrix size-incompatible: In[0]: [1,8,6,8], In[1]: [1,8,6,8] [Op:BatchMatMulV2] name: ",
          "traceback": [
            "\u001b[0;31m---------------------------------------------------------------------------\u001b[0m",
            "\u001b[0;31mInvalidArgumentError\u001b[0m                      Traceback (most recent call last)",
            "\u001b[0;32m<ipython-input-12-aa17ef50d6c6>\u001b[0m in \u001b[0;36m<cell line: 7>\u001b[0;34m()\u001b[0m\n\u001b[1;32m      5\u001b[0m \u001b[0mresult\u001b[0m \u001b[0;34m=\u001b[0m \u001b[0mintegers\u001b[0m\u001b[0;34m.\u001b[0m\u001b[0mreshape\u001b[0m\u001b[0;34m(\u001b[0m\u001b[0marray_shape\u001b[0m\u001b[0;34m)\u001b[0m\u001b[0;34m\u001b[0m\u001b[0;34m\u001b[0m\u001b[0m\n\u001b[1;32m      6\u001b[0m \u001b[0mresult1\u001b[0m \u001b[0;34m=\u001b[0m \u001b[0mresult\u001b[0m\u001b[0;34m\u001b[0m\u001b[0;34m\u001b[0m\u001b[0m\n\u001b[0;32m----> 7\u001b[0;31m \u001b[0mres2\u001b[0m \u001b[0;34m=\u001b[0m \u001b[0mtf\u001b[0m\u001b[0;34m.\u001b[0m\u001b[0mmatmul\u001b[0m\u001b[0;34m(\u001b[0m\u001b[0mresult\u001b[0m\u001b[0;34m,\u001b[0m\u001b[0mresult1\u001b[0m \u001b[0;34m)\u001b[0m\u001b[0;34m\u001b[0m\u001b[0;34m\u001b[0m\u001b[0m\n\u001b[0m\u001b[1;32m      8\u001b[0m \u001b[0mres2\u001b[0m\u001b[0;34m.\u001b[0m\u001b[0mshape\u001b[0m\u001b[0;34m\u001b[0m\u001b[0;34m\u001b[0m\u001b[0m\n",
            "\u001b[0;32m/usr/local/lib/python3.10/dist-packages/tensorflow/python/ops/weak_tensor_ops.py\u001b[0m in \u001b[0;36mwrapper\u001b[0;34m(*args, **kwargs)\u001b[0m\n\u001b[1;32m    140\u001b[0m   \u001b[0;32mdef\u001b[0m \u001b[0mwrapper\u001b[0m\u001b[0;34m(\u001b[0m\u001b[0;34m*\u001b[0m\u001b[0margs\u001b[0m\u001b[0;34m,\u001b[0m \u001b[0;34m**\u001b[0m\u001b[0mkwargs\u001b[0m\u001b[0;34m)\u001b[0m\u001b[0;34m:\u001b[0m\u001b[0;34m\u001b[0m\u001b[0;34m\u001b[0m\u001b[0m\n\u001b[1;32m    141\u001b[0m     \u001b[0;32mif\u001b[0m \u001b[0;32mnot\u001b[0m \u001b[0mops\u001b[0m\u001b[0;34m.\u001b[0m\u001b[0mis_auto_dtype_conversion_enabled\u001b[0m\u001b[0;34m(\u001b[0m\u001b[0;34m)\u001b[0m\u001b[0;34m:\u001b[0m\u001b[0;34m\u001b[0m\u001b[0;34m\u001b[0m\u001b[0m\n\u001b[0;32m--> 142\u001b[0;31m       \u001b[0;32mreturn\u001b[0m \u001b[0mop\u001b[0m\u001b[0;34m(\u001b[0m\u001b[0;34m*\u001b[0m\u001b[0margs\u001b[0m\u001b[0;34m,\u001b[0m \u001b[0;34m**\u001b[0m\u001b[0mkwargs\u001b[0m\u001b[0;34m)\u001b[0m\u001b[0;34m\u001b[0m\u001b[0;34m\u001b[0m\u001b[0m\n\u001b[0m\u001b[1;32m    143\u001b[0m     \u001b[0mbound_arguments\u001b[0m \u001b[0;34m=\u001b[0m \u001b[0msignature\u001b[0m\u001b[0;34m.\u001b[0m\u001b[0mbind\u001b[0m\u001b[0;34m(\u001b[0m\u001b[0;34m*\u001b[0m\u001b[0margs\u001b[0m\u001b[0;34m,\u001b[0m \u001b[0;34m**\u001b[0m\u001b[0mkwargs\u001b[0m\u001b[0;34m)\u001b[0m\u001b[0;34m\u001b[0m\u001b[0;34m\u001b[0m\u001b[0m\n\u001b[1;32m    144\u001b[0m     \u001b[0mbound_arguments\u001b[0m\u001b[0;34m.\u001b[0m\u001b[0mapply_defaults\u001b[0m\u001b[0;34m(\u001b[0m\u001b[0;34m)\u001b[0m\u001b[0;34m\u001b[0m\u001b[0;34m\u001b[0m\u001b[0m\n",
            "\u001b[0;32m/usr/local/lib/python3.10/dist-packages/tensorflow/python/util/traceback_utils.py\u001b[0m in \u001b[0;36merror_handler\u001b[0;34m(*args, **kwargs)\u001b[0m\n\u001b[1;32m    151\u001b[0m     \u001b[0;32mexcept\u001b[0m \u001b[0mException\u001b[0m \u001b[0;32mas\u001b[0m \u001b[0me\u001b[0m\u001b[0;34m:\u001b[0m\u001b[0;34m\u001b[0m\u001b[0;34m\u001b[0m\u001b[0m\n\u001b[1;32m    152\u001b[0m       \u001b[0mfiltered_tb\u001b[0m \u001b[0;34m=\u001b[0m \u001b[0m_process_traceback_frames\u001b[0m\u001b[0;34m(\u001b[0m\u001b[0me\u001b[0m\u001b[0;34m.\u001b[0m\u001b[0m__traceback__\u001b[0m\u001b[0;34m)\u001b[0m\u001b[0;34m\u001b[0m\u001b[0;34m\u001b[0m\u001b[0m\n\u001b[0;32m--> 153\u001b[0;31m       \u001b[0;32mraise\u001b[0m \u001b[0me\u001b[0m\u001b[0;34m.\u001b[0m\u001b[0mwith_traceback\u001b[0m\u001b[0;34m(\u001b[0m\u001b[0mfiltered_tb\u001b[0m\u001b[0;34m)\u001b[0m \u001b[0;32mfrom\u001b[0m \u001b[0;32mNone\u001b[0m\u001b[0;34m\u001b[0m\u001b[0;34m\u001b[0m\u001b[0m\n\u001b[0m\u001b[1;32m    154\u001b[0m     \u001b[0;32mfinally\u001b[0m\u001b[0;34m:\u001b[0m\u001b[0;34m\u001b[0m\u001b[0;34m\u001b[0m\u001b[0m\n\u001b[1;32m    155\u001b[0m       \u001b[0;32mdel\u001b[0m \u001b[0mfiltered_tb\u001b[0m\u001b[0;34m\u001b[0m\u001b[0;34m\u001b[0m\u001b[0m\n",
            "\u001b[0;32m/usr/local/lib/python3.10/dist-packages/tensorflow/python/framework/ops.py\u001b[0m in \u001b[0;36mraise_from_not_ok_status\u001b[0;34m(e, name)\u001b[0m\n\u001b[1;32m   5881\u001b[0m \u001b[0;32mdef\u001b[0m \u001b[0mraise_from_not_ok_status\u001b[0m\u001b[0;34m(\u001b[0m\u001b[0me\u001b[0m\u001b[0;34m,\u001b[0m \u001b[0mname\u001b[0m\u001b[0;34m)\u001b[0m \u001b[0;34m->\u001b[0m \u001b[0mNoReturn\u001b[0m\u001b[0;34m:\u001b[0m\u001b[0;34m\u001b[0m\u001b[0;34m\u001b[0m\u001b[0m\n\u001b[1;32m   5882\u001b[0m   \u001b[0me\u001b[0m\u001b[0;34m.\u001b[0m\u001b[0mmessage\u001b[0m \u001b[0;34m+=\u001b[0m \u001b[0;34m(\u001b[0m\u001b[0;34m\" name: \"\u001b[0m \u001b[0;34m+\u001b[0m \u001b[0mstr\u001b[0m\u001b[0;34m(\u001b[0m\u001b[0mname\u001b[0m \u001b[0;32mif\u001b[0m \u001b[0mname\u001b[0m \u001b[0;32mis\u001b[0m \u001b[0;32mnot\u001b[0m \u001b[0;32mNone\u001b[0m \u001b[0;32melse\u001b[0m \u001b[0;34m\"\"\u001b[0m\u001b[0;34m)\u001b[0m\u001b[0;34m)\u001b[0m\u001b[0;34m\u001b[0m\u001b[0;34m\u001b[0m\u001b[0m\n\u001b[0;32m-> 5883\u001b[0;31m   \u001b[0;32mraise\u001b[0m \u001b[0mcore\u001b[0m\u001b[0;34m.\u001b[0m\u001b[0m_status_to_exception\u001b[0m\u001b[0;34m(\u001b[0m\u001b[0me\u001b[0m\u001b[0;34m)\u001b[0m \u001b[0;32mfrom\u001b[0m \u001b[0;32mNone\u001b[0m  \u001b[0;31m# pylint: disable=protected-access\u001b[0m\u001b[0;34m\u001b[0m\u001b[0;34m\u001b[0m\u001b[0m\n\u001b[0m\u001b[1;32m   5884\u001b[0m \u001b[0;34m\u001b[0m\u001b[0m\n\u001b[1;32m   5885\u001b[0m \u001b[0;34m\u001b[0m\u001b[0m\n",
            "\u001b[0;31mInvalidArgumentError\u001b[0m: {{function_node __wrapped__BatchMatMulV2_device_/job:localhost/replica:0/task:0/device:CPU:0}} Matrix size-incompatible: In[0]: [1,8,6,8], In[1]: [1,8,6,8] [Op:BatchMatMulV2] name: "
          ]
        }
      ]
    },
    {
      "cell_type": "code",
      "source": [
        "import tensorflow as tf\n",
        "\n",
        "# x has a shape of (2, 3) (two rows and three columns):\n",
        "x = tf.constant([[1, 1, 1], [1, 1, 1]])\n",
        "x.numpy()\n",
        "\n"
      ],
      "metadata": {
        "colab": {
          "base_uri": "https://localhost:8080/"
        },
        "id": "DzbUGZtdin9D",
        "outputId": "27f13d24-fae7-45c1-8d25-9bfc125e856f"
      },
      "execution_count": null,
      "outputs": [
        {
          "output_type": "execute_result",
          "data": {
            "text/plain": [
              "array([[1, 1, 1],\n",
              "       [1, 1, 1]], dtype=int32)"
            ]
          },
          "metadata": {},
          "execution_count": 4
        }
      ]
    },
    {
      "cell_type": "code",
      "source": [
        "# sum all the elements\n",
        "# 1 + 1 + 1 + 1 + 1+ 1 = 6\n",
        "tf.reduce_sum(x).numpy()\n",
        "\n"
      ],
      "metadata": {
        "colab": {
          "base_uri": "https://localhost:8080/"
        },
        "id": "gcXk2P46jQss",
        "outputId": "02ec899d-3e8c-49e3-8b03-6d2e18731ee6"
      },
      "execution_count": null,
      "outputs": [
        {
          "output_type": "execute_result",
          "data": {
            "text/plain": [
              "6"
            ]
          },
          "metadata": {},
          "execution_count": 5
        }
      ]
    },
    {
      "cell_type": "code",
      "source": [
        "# reduce along the first dimension\n",
        "# the result is [1, 1, 1] + [1, 1, 1] = [2, 2, 2]\n",
        "tf.reduce_sum(x, 0).numpy()\n",
        "\n"
      ],
      "metadata": {
        "colab": {
          "base_uri": "https://localhost:8080/"
        },
        "id": "n2UHRQqZjTNQ",
        "outputId": "b817d05d-c90e-4310-caf3-9c53238a7a1c"
      },
      "execution_count": null,
      "outputs": [
        {
          "output_type": "execute_result",
          "data": {
            "text/plain": [
              "array([2, 2, 2], dtype=int32)"
            ]
          },
          "metadata": {},
          "execution_count": 6
        }
      ]
    },
    {
      "cell_type": "code",
      "source": [
        "# reduce along the second dimension\n",
        "# the result is [1, 1] + [1, 1] + [1, 1] = [3, 3]\n",
        "tf.reduce_sum(x, 1).numpy()\n",
        "\n"
      ],
      "metadata": {
        "colab": {
          "base_uri": "https://localhost:8080/"
        },
        "id": "xL3TJO3ZjVMc",
        "outputId": "9ffef1cd-0029-41f9-f612-074333289ef6"
      },
      "execution_count": null,
      "outputs": [
        {
          "output_type": "execute_result",
          "data": {
            "text/plain": [
              "array([3, 3], dtype=int32)"
            ]
          },
          "metadata": {},
          "execution_count": 7
        }
      ]
    },
    {
      "cell_type": "code",
      "source": [
        "# keep the original dimensions\n",
        "tf.reduce_sum(x, 1, keepdims=True).numpy()\n",
        "\n"
      ],
      "metadata": {
        "colab": {
          "base_uri": "https://localhost:8080/"
        },
        "id": "KHUafkZyjXQT",
        "outputId": "b0d16600-da82-40e4-e00a-026f34c6f54a"
      },
      "execution_count": null,
      "outputs": [
        {
          "output_type": "execute_result",
          "data": {
            "text/plain": [
              "array([[3],\n",
              "       [3]], dtype=int32)"
            ]
          },
          "metadata": {},
          "execution_count": 8
        }
      ]
    },
    {
      "cell_type": "code",
      "source": [
        "# reduce along both dimensions\n",
        "# the result is 1 + 1 + 1 + 1 + 1 + 1 = 6\n",
        "# or, equivalently, reduce along rows, then reduce the resultant array\n",
        "# [1, 1, 1] + [1, 1, 1] = [2, 2, 2]\n",
        "# 2 + 2 + 2 = 6\n",
        "tf.reduce_sum(x, [0, 1]).numpy()\n"
      ],
      "metadata": {
        "colab": {
          "base_uri": "https://localhost:8080/"
        },
        "id": "4qtP-08YjZ6v",
        "outputId": "ce6a4af8-d469-4f83-d072-1979cc4fed65"
      },
      "execution_count": null,
      "outputs": [
        {
          "output_type": "execute_result",
          "data": {
            "text/plain": [
              "6"
            ]
          },
          "metadata": {},
          "execution_count": 9
        }
      ]
    },
    {
      "cell_type": "code",
      "source": [
        "!pip install keras_nlp\n",
        "!pip install tensorflow_addons"
      ],
      "metadata": {
        "colab": {
          "base_uri": "https://localhost:8080/"
        },
        "id": "bL9yxZFh61Ja",
        "outputId": "1a7e864e-63a7-461b-aa96-fc55bfef8ad6"
      },
      "execution_count": 1,
      "outputs": [
        {
          "output_type": "stream",
          "name": "stdout",
          "text": [
            "Collecting keras_nlp\n",
            "  Downloading keras_nlp-0.7.0-py3-none-any.whl (415 kB)\n",
            "\u001b[2K     \u001b[90m━━━━━━━━━━━━━━━━━━━━━━━━━━━━━━━━━━━━━━━━\u001b[0m \u001b[32m415.4/415.4 kB\u001b[0m \u001b[31m4.4 MB/s\u001b[0m eta \u001b[36m0:00:00\u001b[0m\n",
            "\u001b[?25hCollecting keras-core (from keras_nlp)\n",
            "  Downloading keras_core-0.1.7-py3-none-any.whl (950 kB)\n",
            "\u001b[2K     \u001b[90m━━━━━━━━━━━━━━━━━━━━━━━━━━━━━━━━━━━━━━━━\u001b[0m \u001b[32m950.8/950.8 kB\u001b[0m \u001b[31m8.8 MB/s\u001b[0m eta \u001b[36m0:00:00\u001b[0m\n",
            "\u001b[?25hRequirement already satisfied: absl-py in /usr/local/lib/python3.10/dist-packages (from keras_nlp) (1.4.0)\n",
            "Requirement already satisfied: numpy in /usr/local/lib/python3.10/dist-packages (from keras_nlp) (1.25.2)\n",
            "Requirement already satisfied: packaging in /usr/local/lib/python3.10/dist-packages (from keras_nlp) (23.2)\n",
            "Requirement already satisfied: regex in /usr/local/lib/python3.10/dist-packages (from keras_nlp) (2023.12.25)\n",
            "Requirement already satisfied: rich in /usr/local/lib/python3.10/dist-packages (from keras_nlp) (13.7.0)\n",
            "Requirement already satisfied: dm-tree in /usr/local/lib/python3.10/dist-packages (from keras_nlp) (0.1.8)\n",
            "Requirement already satisfied: kagglehub in /usr/local/lib/python3.10/dist-packages (from keras_nlp) (0.1.9)\n",
            "Collecting tensorflow-text (from keras_nlp)\n",
            "  Downloading tensorflow_text-2.15.0-cp310-cp310-manylinux_2_17_x86_64.manylinux2014_x86_64.whl (5.2 MB)\n",
            "\u001b[2K     \u001b[90m━━━━━━━━━━━━━━━━━━━━━━━━━━━━━━━━━━━━━━━━\u001b[0m \u001b[32m5.2/5.2 MB\u001b[0m \u001b[31m15.7 MB/s\u001b[0m eta \u001b[36m0:00:00\u001b[0m\n",
            "\u001b[?25hRequirement already satisfied: requests in /usr/local/lib/python3.10/dist-packages (from kagglehub->keras_nlp) (2.31.0)\n",
            "Requirement already satisfied: tqdm in /usr/local/lib/python3.10/dist-packages (from kagglehub->keras_nlp) (4.66.2)\n",
            "Collecting namex (from keras-core->keras_nlp)\n",
            "  Downloading namex-0.0.7-py3-none-any.whl (5.8 kB)\n",
            "Requirement already satisfied: h5py in /usr/local/lib/python3.10/dist-packages (from keras-core->keras_nlp) (3.9.0)\n",
            "Requirement already satisfied: markdown-it-py>=2.2.0 in /usr/local/lib/python3.10/dist-packages (from rich->keras_nlp) (3.0.0)\n",
            "Requirement already satisfied: pygments<3.0.0,>=2.13.0 in /usr/local/lib/python3.10/dist-packages (from rich->keras_nlp) (2.16.1)\n",
            "Requirement already satisfied: tensorflow-hub>=0.13.0 in /usr/local/lib/python3.10/dist-packages (from tensorflow-text->keras_nlp) (0.16.1)\n",
            "Requirement already satisfied: tensorflow<2.16,>=2.15.0 in /usr/local/lib/python3.10/dist-packages (from tensorflow-text->keras_nlp) (2.15.0)\n",
            "Requirement already satisfied: mdurl~=0.1 in /usr/local/lib/python3.10/dist-packages (from markdown-it-py>=2.2.0->rich->keras_nlp) (0.1.2)\n",
            "Requirement already satisfied: astunparse>=1.6.0 in /usr/local/lib/python3.10/dist-packages (from tensorflow<2.16,>=2.15.0->tensorflow-text->keras_nlp) (1.6.3)\n",
            "Requirement already satisfied: flatbuffers>=23.5.26 in /usr/local/lib/python3.10/dist-packages (from tensorflow<2.16,>=2.15.0->tensorflow-text->keras_nlp) (23.5.26)\n",
            "Requirement already satisfied: gast!=0.5.0,!=0.5.1,!=0.5.2,>=0.2.1 in /usr/local/lib/python3.10/dist-packages (from tensorflow<2.16,>=2.15.0->tensorflow-text->keras_nlp) (0.5.4)\n",
            "Requirement already satisfied: google-pasta>=0.1.1 in /usr/local/lib/python3.10/dist-packages (from tensorflow<2.16,>=2.15.0->tensorflow-text->keras_nlp) (0.2.0)\n",
            "Requirement already satisfied: libclang>=13.0.0 in /usr/local/lib/python3.10/dist-packages (from tensorflow<2.16,>=2.15.0->tensorflow-text->keras_nlp) (16.0.6)\n",
            "Requirement already satisfied: ml-dtypes~=0.2.0 in /usr/local/lib/python3.10/dist-packages (from tensorflow<2.16,>=2.15.0->tensorflow-text->keras_nlp) (0.2.0)\n",
            "Requirement already satisfied: opt-einsum>=2.3.2 in /usr/local/lib/python3.10/dist-packages (from tensorflow<2.16,>=2.15.0->tensorflow-text->keras_nlp) (3.3.0)\n",
            "Requirement already satisfied: protobuf!=4.21.0,!=4.21.1,!=4.21.2,!=4.21.3,!=4.21.4,!=4.21.5,<5.0.0dev,>=3.20.3 in /usr/local/lib/python3.10/dist-packages (from tensorflow<2.16,>=2.15.0->tensorflow-text->keras_nlp) (3.20.3)\n",
            "Requirement already satisfied: setuptools in /usr/local/lib/python3.10/dist-packages (from tensorflow<2.16,>=2.15.0->tensorflow-text->keras_nlp) (67.7.2)\n",
            "Requirement already satisfied: six>=1.12.0 in /usr/local/lib/python3.10/dist-packages (from tensorflow<2.16,>=2.15.0->tensorflow-text->keras_nlp) (1.16.0)\n",
            "Requirement already satisfied: termcolor>=1.1.0 in /usr/local/lib/python3.10/dist-packages (from tensorflow<2.16,>=2.15.0->tensorflow-text->keras_nlp) (2.4.0)\n",
            "Requirement already satisfied: typing-extensions>=3.6.6 in /usr/local/lib/python3.10/dist-packages (from tensorflow<2.16,>=2.15.0->tensorflow-text->keras_nlp) (4.9.0)\n",
            "Requirement already satisfied: wrapt<1.15,>=1.11.0 in /usr/local/lib/python3.10/dist-packages (from tensorflow<2.16,>=2.15.0->tensorflow-text->keras_nlp) (1.14.1)\n",
            "Requirement already satisfied: tensorflow-io-gcs-filesystem>=0.23.1 in /usr/local/lib/python3.10/dist-packages (from tensorflow<2.16,>=2.15.0->tensorflow-text->keras_nlp) (0.36.0)\n",
            "Requirement already satisfied: grpcio<2.0,>=1.24.3 in /usr/local/lib/python3.10/dist-packages (from tensorflow<2.16,>=2.15.0->tensorflow-text->keras_nlp) (1.60.1)\n",
            "Requirement already satisfied: tensorboard<2.16,>=2.15 in /usr/local/lib/python3.10/dist-packages (from tensorflow<2.16,>=2.15.0->tensorflow-text->keras_nlp) (2.15.2)\n",
            "Requirement already satisfied: tensorflow-estimator<2.16,>=2.15.0 in /usr/local/lib/python3.10/dist-packages (from tensorflow<2.16,>=2.15.0->tensorflow-text->keras_nlp) (2.15.0)\n",
            "Requirement already satisfied: keras<2.16,>=2.15.0 in /usr/local/lib/python3.10/dist-packages (from tensorflow<2.16,>=2.15.0->tensorflow-text->keras_nlp) (2.15.0)\n",
            "Requirement already satisfied: tf-keras>=2.14.1 in /usr/local/lib/python3.10/dist-packages (from tensorflow-hub>=0.13.0->tensorflow-text->keras_nlp) (2.15.0)\n",
            "Requirement already satisfied: charset-normalizer<4,>=2 in /usr/local/lib/python3.10/dist-packages (from requests->kagglehub->keras_nlp) (3.3.2)\n",
            "Requirement already satisfied: idna<4,>=2.5 in /usr/local/lib/python3.10/dist-packages (from requests->kagglehub->keras_nlp) (3.6)\n",
            "Requirement already satisfied: urllib3<3,>=1.21.1 in /usr/local/lib/python3.10/dist-packages (from requests->kagglehub->keras_nlp) (2.0.7)\n",
            "Requirement already satisfied: certifi>=2017.4.17 in /usr/local/lib/python3.10/dist-packages (from requests->kagglehub->keras_nlp) (2024.2.2)\n",
            "Requirement already satisfied: wheel<1.0,>=0.23.0 in /usr/local/lib/python3.10/dist-packages (from astunparse>=1.6.0->tensorflow<2.16,>=2.15.0->tensorflow-text->keras_nlp) (0.42.0)\n",
            "Requirement already satisfied: google-auth<3,>=1.6.3 in /usr/local/lib/python3.10/dist-packages (from tensorboard<2.16,>=2.15->tensorflow<2.16,>=2.15.0->tensorflow-text->keras_nlp) (2.27.0)\n",
            "Requirement already satisfied: google-auth-oauthlib<2,>=0.5 in /usr/local/lib/python3.10/dist-packages (from tensorboard<2.16,>=2.15->tensorflow<2.16,>=2.15.0->tensorflow-text->keras_nlp) (1.2.0)\n",
            "Requirement already satisfied: markdown>=2.6.8 in /usr/local/lib/python3.10/dist-packages (from tensorboard<2.16,>=2.15->tensorflow<2.16,>=2.15.0->tensorflow-text->keras_nlp) (3.5.2)\n",
            "Requirement already satisfied: tensorboard-data-server<0.8.0,>=0.7.0 in /usr/local/lib/python3.10/dist-packages (from tensorboard<2.16,>=2.15->tensorflow<2.16,>=2.15.0->tensorflow-text->keras_nlp) (0.7.2)\n",
            "Requirement already satisfied: werkzeug>=1.0.1 in /usr/local/lib/python3.10/dist-packages (from tensorboard<2.16,>=2.15->tensorflow<2.16,>=2.15.0->tensorflow-text->keras_nlp) (3.0.1)\n",
            "Requirement already satisfied: cachetools<6.0,>=2.0.0 in /usr/local/lib/python3.10/dist-packages (from google-auth<3,>=1.6.3->tensorboard<2.16,>=2.15->tensorflow<2.16,>=2.15.0->tensorflow-text->keras_nlp) (5.3.2)\n",
            "Requirement already satisfied: pyasn1-modules>=0.2.1 in /usr/local/lib/python3.10/dist-packages (from google-auth<3,>=1.6.3->tensorboard<2.16,>=2.15->tensorflow<2.16,>=2.15.0->tensorflow-text->keras_nlp) (0.3.0)\n",
            "Requirement already satisfied: rsa<5,>=3.1.4 in /usr/local/lib/python3.10/dist-packages (from google-auth<3,>=1.6.3->tensorboard<2.16,>=2.15->tensorflow<2.16,>=2.15.0->tensorflow-text->keras_nlp) (4.9)\n",
            "Requirement already satisfied: requests-oauthlib>=0.7.0 in /usr/local/lib/python3.10/dist-packages (from google-auth-oauthlib<2,>=0.5->tensorboard<2.16,>=2.15->tensorflow<2.16,>=2.15.0->tensorflow-text->keras_nlp) (1.3.1)\n",
            "Requirement already satisfied: MarkupSafe>=2.1.1 in /usr/local/lib/python3.10/dist-packages (from werkzeug>=1.0.1->tensorboard<2.16,>=2.15->tensorflow<2.16,>=2.15.0->tensorflow-text->keras_nlp) (2.1.5)\n",
            "Requirement already satisfied: pyasn1<0.6.0,>=0.4.6 in /usr/local/lib/python3.10/dist-packages (from pyasn1-modules>=0.2.1->google-auth<3,>=1.6.3->tensorboard<2.16,>=2.15->tensorflow<2.16,>=2.15.0->tensorflow-text->keras_nlp) (0.5.1)\n",
            "Requirement already satisfied: oauthlib>=3.0.0 in /usr/local/lib/python3.10/dist-packages (from requests-oauthlib>=0.7.0->google-auth-oauthlib<2,>=0.5->tensorboard<2.16,>=2.15->tensorflow<2.16,>=2.15.0->tensorflow-text->keras_nlp) (3.2.2)\n",
            "Installing collected packages: namex, keras-core, tensorflow-text, keras_nlp\n",
            "Successfully installed keras-core-0.1.7 keras_nlp-0.7.0 namex-0.0.7 tensorflow-text-2.15.0\n",
            "Collecting tensorflow_addons\n",
            "  Downloading tensorflow_addons-0.23.0-cp310-cp310-manylinux_2_17_x86_64.manylinux2014_x86_64.whl (611 kB)\n",
            "\u001b[2K     \u001b[90m━━━━━━━━━━━━━━━━━━━━━━━━━━━━━━━━━━━━━━━━\u001b[0m \u001b[32m611.8/611.8 kB\u001b[0m \u001b[31m5.3 MB/s\u001b[0m eta \u001b[36m0:00:00\u001b[0m\n",
            "\u001b[?25hRequirement already satisfied: packaging in /usr/local/lib/python3.10/dist-packages (from tensorflow_addons) (23.2)\n",
            "Collecting typeguard<3.0.0,>=2.7 (from tensorflow_addons)\n",
            "  Downloading typeguard-2.13.3-py3-none-any.whl (17 kB)\n",
            "Installing collected packages: typeguard, tensorflow_addons\n",
            "Successfully installed tensorflow_addons-0.23.0 typeguard-2.13.3\n"
          ]
        }
      ]
    },
    {
      "cell_type": "code",
      "source": [
        "import numpy as np\n",
        "\n",
        "# Function to generate a signal consisting of sinusoidal wave and noise\n",
        "def generate_signal(length,type):\n",
        "\n",
        "    freq2 = 0\n",
        "    amplitude2 = 0\n",
        "\n",
        "    time = np.linspace(0, 1, length)  # Time axis\n",
        "\n",
        "    # Randomly choose frequency and amplitude for the sinusoidal wave\n",
        "    freq = np.random.uniform(1, 10)\n",
        "    amplitude = np.random.uniform(0.5, 2)\n",
        "\n",
        "    if  type == 1:\n",
        "        freq2 = np.random.uniform(1, 10)\n",
        "        amplitude2 = np.random.uniform(0.5, 2)\n",
        "\n",
        "\n",
        "    # Generate sinusoidal wave with random frequency and amplitude\n",
        "    signal = amplitude * np.sin(2 * np.pi * freq * time)\n",
        "\n",
        "    # Add noise to the signal\n",
        "    noise_amplitude = np.random.uniform(0.1, 0.5)\n",
        "    noise = noise_amplitude * np.random.randn(length) + amplitude2 * np.sin(2 * np.pi * freq2 * time)\n",
        "    signal_with_noise = signal + noise\n",
        "\n",
        "    return signal_with_noise\n",
        "\n",
        "# Function to compute autocorrelation of a signal\n",
        "def compute_autocorrelation(signal):\n",
        "    autocorr = np.correlate(signal, signal, mode='full')\n",
        "    return autocorr[len(autocorr)//2:]\n",
        "\n",
        "# Generate 100 signals and their autocorrelation\n",
        "X_combined = []\n",
        "y_combined = []\n",
        "\n",
        "for i in range(10000):\n",
        "    # Generate signal\n",
        "    type = i%2\n",
        "\n",
        "    signal = generate_signal(32 ,type )\n",
        "\n",
        "    # Normalize the signal to range [0, 1]\n",
        "    signal_normalized = (signal - np.min(signal)) / (np.max(signal) - np.min(signal))\n",
        "\n",
        "    # Compute autocorrelation\n",
        "    autocorr = compute_autocorrelation(signal)\n",
        "\n",
        "    # Normalize the autocorrelation to range [0, 1]\n",
        "    autocorr_normalized = (autocorr - np.min(autocorr)) / (np.max(autocorr) - np.min(autocorr))\n",
        "\n",
        "    # Combine original signal and its autocorrelation\n",
        "    combined_signal = np.stack([signal_normalized, autocorr_normalized], axis=-1)\n",
        "    X_combined.append(combined_signal)\n",
        "\n",
        "    # Determine the autocorrelation type and assign label\n",
        "    # For simplicity, we'll randomly assign 0 or 1 as the label\n",
        "    #autocorr_type = np.random.randint(2)\n",
        "    y_combined.append(type)\n",
        "\n",
        "# Convert lists to numpy arrays\n",
        "X_combined = np.array(X_combined)\n",
        "y_combined = np.array(y_combined)\n",
        "\n",
        "indices = np.arange(X_combined.shape[0])\n",
        "np.random.shuffle(indices)\n",
        "X_combined = X_combined[indices]\n",
        "y_combined = y_combined[indices]\n",
        "\n",
        "\n",
        "# Display shapes of X_combined and y_combined\n",
        "print(\"Shape of X_combined:\", X_combined.shape)\n",
        "print(\"Shape of y_combined:\", y_combined.shape)\n"
      ],
      "metadata": {
        "colab": {
          "base_uri": "https://localhost:8080/"
        },
        "id": "fBk4OjcPFTvc",
        "outputId": "2eed557f-56e2-46b6-e596-227986345eb7"
      },
      "execution_count": 32,
      "outputs": [
        {
          "output_type": "stream",
          "name": "stdout",
          "text": [
            "Shape of X_combined: (10000, 32, 2)\n",
            "Shape of y_combined: (10000,)\n"
          ]
        }
      ]
    },
    {
      "cell_type": "code",
      "source": [
        "import matplotlib.pyplot as plt\n",
        "\n",
        "def plot_training_history(history):\n",
        "    # Plot training & validation accuracy values\n",
        "    plt.plot(history.history['accuracy'])\n",
        "    plt.plot(history.history['val_accuracy'])\n",
        "    plt.title('Model accuracy')\n",
        "    plt.xlabel('Epoch')\n",
        "    plt.ylabel('Accuracy')\n",
        "    plt.legend(['Train', 'Validation'], loc='upper left')\n",
        "    plt.show()\n",
        "\n",
        "    # Plot training & validation loss values\n",
        "    plt.plot(history.history['loss'])\n",
        "    plt.plot(history.history['val_loss'])\n",
        "    plt.title('Model loss')\n",
        "    plt.xlabel('Epoch')\n",
        "    plt.ylabel('Loss')\n",
        "    plt.legend(['Train', 'Validation'], loc='upper left')\n",
        "    plt.show()\n",
        "\n",
        "# Assuming you have trained your model and have its training history\n",
        "# Replace 'model_history' with the actual history object returned by model.fit()\n",
        "\n"
      ],
      "metadata": {
        "id": "SsjwJThPah2P"
      },
      "execution_count": 3,
      "outputs": []
    },
    {
      "cell_type": "code",
      "source": [
        "t = 81\n",
        "plt.figure(1)\n",
        "plt.grid(True)\n",
        "plt.plot(X_combined[t,:,0] , color = 'r')\n",
        "plt.plot(X_combined[t,:,1] , color = 'b')\n",
        "print(y_combined[t])\n",
        "plt.show()\n",
        "t = 82\n",
        "plt.figure(1)\n",
        "plt.grid(True)\n",
        "plt.plot(X_combined[t,:,0] , color = 'r')\n",
        "plt.plot(X_combined[t,:,1] , color = 'b')\n",
        "print(y_combined[t])\n",
        "plt.show()\n",
        "\n",
        "\n"
      ],
      "metadata": {
        "colab": {
          "base_uri": "https://localhost:8080/",
          "height": 879
        },
        "id": "v9broCigNw0y",
        "outputId": "b31b5025-76d3-4143-866c-a3c489bf5292"
      },
      "execution_count": 4,
      "outputs": [
        {
          "output_type": "stream",
          "name": "stdout",
          "text": [
            "1\n"
          ]
        },
        {
          "output_type": "display_data",
          "data": {
            "text/plain": [
              "<Figure size 640x480 with 1 Axes>"
            ],
            "image/png": "[encoded data removed]"
          },
          "metadata": {}
        },
        {
          "output_type": "stream",
          "name": "stdout",
          "text": [
            "1\n"
          ]
        },
        {
          "output_type": "display_data",
          "data": {
            "text/plain": [
              "<Figure size 640x480 with 1 Axes>"
            ],
            "image/png": "[encoded data removed]"
          },
          "metadata": {}
        }
      ]
    },
    {
      "cell_type": "code",
      "source": [
        "X_combined1d = X_combined[:,:,0]\n",
        "X_combined1d.shape"
      ],
      "metadata": {
        "colab": {
          "base_uri": "https://localhost:8080/"
        },
        "id": "Wa-eSSvmijXM",
        "outputId": "e10ee1cc-8e33-47e4-c466-bdd656a32c6f"
      },
      "execution_count": 6,
      "outputs": [
        {
          "output_type": "execute_result",
          "data": {
            "text/plain": [
              "(1000, 32)"
            ]
          },
          "metadata": {},
          "execution_count": 6
        }
      ]
    },
    {
      "cell_type": "code",
      "source": [
        "import tensorflow as tf\n",
        "from tensorflow.keras import layers, models\n",
        "import tensorflow_addons as tfa\n",
        "import keras_nlp as nlp\n",
        "import matplotlib.pyplot as plt\n",
        "import pandas as pd\n",
        "from keras.optimizers import AdamW\n",
        "import tensorflow_addons as tfa\n",
        "\n",
        "y_labels = y_combined\n",
        "\n",
        "# Define the input shape\n",
        "input_shape = (32, 2)  # 32 samples, 2 features (original signal + autocorrelation graph)\n",
        "\n",
        "# Define the CNN model with attention layer\n",
        "model = models.Sequential([\n",
        "    layers.Conv1D(256, kernel_size=3, activation='relu', input_shape=input_shape),\n",
        "    layers.Dropout(0.1),\n",
        "    #layers.MaxPooling1D(pool_size=2),\n",
        "    layers.Conv1D(128, kernel_size=5, activation='relu'),\n",
        "    layers.Dropout(0.1),\n",
        "    layers.MaxPooling1D(pool_size=2),\n",
        "    layers.Conv1D(64, kernel_size=3, activation='relu'),\n",
        "    layers.Dropout(0.1),\n",
        "    layers.MaxPooling1D(pool_size=1),\n",
        "    layers.Conv1D(32, kernel_size=3, activation='relu'),\n",
        "    layers.Dropout(0.1),\n",
        "    nlp.layers.TransformerEncoder( intermediate_dim=32, num_heads=8 , dropout = 0.1, normalize_first= True),\n",
        "    layers.Flatten(),\n",
        "    layers.Dense(32, activation='relu'),\n",
        "    layers.Dropout(0.4),\n",
        "    layers.Dense(2, activation='softmax')  # Output layer for multi-class classification with softmax activation\n",
        "])\n",
        "\n",
        "# Compile the model\n",
        "optimizer = tfa.optimizers.AdamW(learning_rate=0.0005, weight_decay=0.0005)\n",
        "#model.compile(optimizer='Adam', loss='sparse_categorical_crossentropy', metrics=['accuracy'])\n",
        "model.compile(optimizer=optimizer , loss='sparse_categorical_crossentropy', metrics=['accuracy'])\n",
        "\n",
        "# Display the model summary\n",
        "model.summary()\n",
        "\n",
        "plt.figure(1)\n",
        "plt.grid(True)\n",
        "plt.plot(X_combined[0,:,0] , color = 'r')\n",
        "plt.plot(X_combined[0,:,1] , color = 'b')\n",
        "plt.show()\n",
        "\n",
        "# Train the model\n",
        "model_history = model.fit(X_combined, y_labels, epochs=100, batch_size=64, validation_split=0.2)\n",
        "plot_training_history(model_history)"
      ],
      "metadata": {
        "colab": {
          "base_uri": "https://localhost:8080/",
          "height": 1000
        },
        "id": "0ZZodTDr1A83",
        "outputId": "fe72bee1-a5a5-4dcf-e632-8bd8d00230dd"
      },
      "execution_count": 40,
      "outputs": [
        {
          "output_type": "stream",
          "name": "stdout",
          "text": [
            "Model: \"sequential_12\"\n",
            "_________________________________________________________________\n",
            " Layer (type)                Output Shape              Param #   \n",
            "=================================================================\n",
            " conv1d_48 (Conv1D)          (None, 30, 256)           1792      \n",
            "                                                                 \n",
            " dropout_45 (Dropout)        (None, 30, 256)           0         \n",
            "                                                                 \n",
            " conv1d_49 (Conv1D)          (None, 26, 128)           163968    \n",
            "                                                                 \n",
            " dropout_46 (Dropout)        (None, 26, 128)           0         \n",
            "                                                                 \n",
            " max_pooling1d_28 (MaxPooli  (None, 13, 128)           0         \n",
            " ng1D)                                                           \n",
            "                                                                 \n",
            " conv1d_50 (Conv1D)          (None, 11, 64)            24640     \n",
            "                                                                 \n",
            " dropout_47 (Dropout)        (None, 11, 64)            0         \n",
            "                                                                 \n",
            " max_pooling1d_29 (MaxPooli  (None, 11, 64)            0         \n",
            " ng1D)                                                           \n",
            "                                                                 \n",
            " conv1d_51 (Conv1D)          (None, 9, 32)             6176      \n",
            "                                                                 \n",
            " dropout_48 (Dropout)        (None, 9, 32)             0         \n",
            "                                                                 \n",
            " transformer_encoder_12 (Tr  (None, 9, 32)             6464      \n",
            " ansformerEncoder)                                               \n",
            "                                                                 \n",
            " flatten_12 (Flatten)        (None, 288)               0         \n",
            "                                                                 \n",
            " dense_24 (Dense)            (None, 32)                9248      \n",
            "                                                                 \n",
            " dropout_49 (Dropout)        (None, 32)                0         \n",
            "                                                                 \n",
            " dense_25 (Dense)            (None, 2)                 66        \n",
            "                                                                 \n",
            "=================================================================\n",
            "Total params: 212354 (829.51 KB)\n",
            "Trainable params: 212354 (829.51 KB)\n",
            "Non-trainable params: 0 (0.00 Byte)\n",
            "_________________________________________________________________\n"
          ]
        },
        {
          "output_type": "display_data",
          "data": {
            "text/plain": [
              "<Figure size 640x480 with 1 Axes>"
            ],
            "image/png": "[encoded data removed]"
          },
          "metadata": {}
        },
        {
          "output_type": "stream",
          "name": "stdout",
          "text": [
            "Epoch 1/100\n",
            "125/125 [==============================] - 15s 94ms/step - loss: 0.7042 - accuracy: 0.5232 - val_loss: 0.6774 - val_accuracy: 0.5170\n",
            "Epoch 2/100\n",
            "125/125 [==============================] - 11s 92ms/step - loss: 0.6369 - accuracy: 0.6461 - val_loss: 0.5657 - val_accuracy: 0.7355\n",
            "Epoch 3/100\n",
            "125/125 [==============================] - 11s 92ms/step - loss: 0.4581 - accuracy: 0.8049 - val_loss: 0.3436 - val_accuracy: 0.8610\n",
            "Epoch 4/100\n",
            "125/125 [==============================] - 11s 92ms/step - loss: 0.3577 - accuracy: 0.8585 - val_loss: 0.3569 - val_accuracy: 0.8485\n",
            "Epoch 5/100\n",
            "125/125 [==============================] - 13s 101ms/step - loss: 0.3515 - accuracy: 0.8565 - val_loss: 0.3092 - val_accuracy: 0.8750\n",
            "Epoch 6/100\n",
            "125/125 [==============================] - 11s 90ms/step - loss: 0.3248 - accuracy: 0.8750 - val_loss: 0.2966 - val_accuracy: 0.8875\n",
            "Epoch 7/100\n",
            "125/125 [==============================] - 12s 94ms/step - loss: 0.3009 - accuracy: 0.8834 - val_loss: 0.3357 - val_accuracy: 0.8685\n",
            "Epoch 8/100\n",
            "125/125 [==============================] - 11s 86ms/step - loss: 0.2858 - accuracy: 0.8907 - val_loss: 0.3027 - val_accuracy: 0.8870\n",
            "Epoch 9/100\n",
            "125/125 [==============================] - 10s 83ms/step - loss: 0.2706 - accuracy: 0.8996 - val_loss: 0.2637 - val_accuracy: 0.8975\n",
            "Epoch 10/100\n",
            "125/125 [==============================] - 11s 91ms/step - loss: 0.2639 - accuracy: 0.9015 - val_loss: 0.3265 - val_accuracy: 0.8815\n",
            "Epoch 11/100\n",
            "125/125 [==============================] - 11s 90ms/step - loss: 0.2741 - accuracy: 0.8944 - val_loss: 0.2547 - val_accuracy: 0.9060\n",
            "Epoch 12/100\n",
            "125/125 [==============================] - 11s 90ms/step - loss: 0.2736 - accuracy: 0.8967 - val_loss: 0.2978 - val_accuracy: 0.8850\n",
            "Epoch 13/100\n",
            "125/125 [==============================] - 11s 90ms/step - loss: 0.2682 - accuracy: 0.9004 - val_loss: 0.2617 - val_accuracy: 0.8965\n",
            "Epoch 14/100\n",
            "125/125 [==============================] - 11s 89ms/step - loss: 0.2497 - accuracy: 0.9062 - val_loss: 0.2607 - val_accuracy: 0.9025\n",
            "Epoch 15/100\n",
            "125/125 [==============================] - 11s 91ms/step - loss: 0.2652 - accuracy: 0.9025 - val_loss: 0.2769 - val_accuracy: 0.8875\n",
            "Epoch 16/100\n",
            "125/125 [==============================] - 13s 101ms/step - loss: 0.2363 - accuracy: 0.9166 - val_loss: 0.2125 - val_accuracy: 0.9230\n",
            "Epoch 17/100\n",
            "125/125 [==============================] - 11s 88ms/step - loss: 0.2546 - accuracy: 0.9047 - val_loss: 0.2491 - val_accuracy: 0.9045\n",
            "Epoch 18/100\n",
            "125/125 [==============================] - 11s 85ms/step - loss: 0.2517 - accuracy: 0.9053 - val_loss: 0.2270 - val_accuracy: 0.9130\n",
            "Epoch 19/100\n",
            "125/125 [==============================] - 11s 91ms/step - loss: 0.2439 - accuracy: 0.9131 - val_loss: 0.2586 - val_accuracy: 0.9065\n",
            "Epoch 20/100\n",
            "125/125 [==============================] - 11s 92ms/step - loss: 0.2464 - accuracy: 0.9125 - val_loss: 0.2503 - val_accuracy: 0.9100\n",
            "Epoch 21/100\n",
            "125/125 [==============================] - 11s 92ms/step - loss: 0.2329 - accuracy: 0.9155 - val_loss: 0.2361 - val_accuracy: 0.9095\n",
            "Epoch 22/100\n",
            "125/125 [==============================] - 11s 91ms/step - loss: 0.2314 - accuracy: 0.9145 - val_loss: 0.2295 - val_accuracy: 0.9120\n",
            "Epoch 23/100\n",
            "125/125 [==============================] - 11s 92ms/step - loss: 0.2370 - accuracy: 0.9155 - val_loss: 0.2254 - val_accuracy: 0.9135\n",
            "Epoch 24/100\n",
            "125/125 [==============================] - 12s 95ms/step - loss: 0.2507 - accuracy: 0.9078 - val_loss: 0.2791 - val_accuracy: 0.8890\n",
            "Epoch 25/100\n",
            "125/125 [==============================] - 11s 89ms/step - loss: 0.2506 - accuracy: 0.9084 - val_loss: 0.2322 - val_accuracy: 0.9085\n",
            "Epoch 26/100\n",
            "125/125 [==============================] - 11s 86ms/step - loss: 0.2375 - accuracy: 0.9140 - val_loss: 0.2299 - val_accuracy: 0.9160\n",
            "Epoch 27/100\n",
            "125/125 [==============================] - 13s 101ms/step - loss: 0.2618 - accuracy: 0.9011 - val_loss: 0.2320 - val_accuracy: 0.9145\n",
            "Epoch 28/100\n",
            "125/125 [==============================] - 11s 91ms/step - loss: 0.2299 - accuracy: 0.9140 - val_loss: 0.2385 - val_accuracy: 0.9135\n",
            "Epoch 29/100\n",
            "125/125 [==============================] - 11s 91ms/step - loss: 0.2371 - accuracy: 0.9145 - val_loss: 0.2061 - val_accuracy: 0.9290\n",
            "Epoch 30/100\n",
            "125/125 [==============================] - 11s 90ms/step - loss: 0.2155 - accuracy: 0.9226 - val_loss: 0.2233 - val_accuracy: 0.9100\n",
            "Epoch 31/100\n",
            "125/125 [==============================] - 11s 91ms/step - loss: 0.2364 - accuracy: 0.9139 - val_loss: 0.2206 - val_accuracy: 0.9200\n",
            "Epoch 32/100\n",
            "125/125 [==============================] - 11s 91ms/step - loss: 0.2234 - accuracy: 0.9181 - val_loss: 0.2718 - val_accuracy: 0.9035\n",
            "Epoch 33/100\n",
            "125/125 [==============================] - 11s 92ms/step - loss: 0.2521 - accuracy: 0.9072 - val_loss: 0.2484 - val_accuracy: 0.9010\n",
            "Epoch 34/100\n",
            "125/125 [==============================] - 11s 89ms/step - loss: 0.2275 - accuracy: 0.9214 - val_loss: 0.3469 - val_accuracy: 0.8840\n",
            "Epoch 35/100\n",
            "125/125 [==============================] - 11s 85ms/step - loss: 0.2292 - accuracy: 0.9194 - val_loss: 0.6103 - val_accuracy: 0.7165\n",
            "Epoch 36/100\n",
            "125/125 [==============================] - 11s 91ms/step - loss: 0.2501 - accuracy: 0.9084 - val_loss: 0.3082 - val_accuracy: 0.8805\n",
            "Epoch 37/100\n",
            "125/125 [==============================] - 11s 91ms/step - loss: 0.2288 - accuracy: 0.9178 - val_loss: 0.2475 - val_accuracy: 0.9050\n",
            "Epoch 38/100\n",
            "125/125 [==============================] - 13s 101ms/step - loss: 0.2165 - accuracy: 0.9233 - val_loss: 0.3599 - val_accuracy: 0.8630\n",
            "Epoch 39/100\n",
            "125/125 [==============================] - 11s 90ms/step - loss: 0.2273 - accuracy: 0.9153 - val_loss: 0.2089 - val_accuracy: 0.9225\n",
            "Epoch 40/100\n",
            "125/125 [==============================] - 11s 90ms/step - loss: 0.2314 - accuracy: 0.9158 - val_loss: 0.2166 - val_accuracy: 0.9240\n",
            "Epoch 41/100\n",
            "125/125 [==============================] - 11s 90ms/step - loss: 0.2222 - accuracy: 0.9194 - val_loss: 0.3130 - val_accuracy: 0.8780\n",
            "Epoch 42/100\n",
            "125/125 [==============================] - 10s 84ms/step - loss: 0.2327 - accuracy: 0.9120 - val_loss: 0.2170 - val_accuracy: 0.9195\n",
            "Epoch 43/100\n",
            "125/125 [==============================] - 11s 90ms/step - loss: 0.2375 - accuracy: 0.9118 - val_loss: 0.2758 - val_accuracy: 0.8980\n",
            "Epoch 44/100\n",
            "125/125 [==============================] - 11s 91ms/step - loss: 0.2290 - accuracy: 0.9150 - val_loss: 0.2342 - val_accuracy: 0.9125\n",
            "Epoch 45/100\n",
            "125/125 [==============================] - 11s 91ms/step - loss: 0.2248 - accuracy: 0.9160 - val_loss: 0.2262 - val_accuracy: 0.9175\n",
            "Epoch 46/100\n",
            "125/125 [==============================] - 11s 91ms/step - loss: 0.2343 - accuracy: 0.9153 - val_loss: 0.2629 - val_accuracy: 0.9090\n",
            "Epoch 47/100\n",
            "125/125 [==============================] - 11s 91ms/step - loss: 0.2195 - accuracy: 0.9190 - val_loss: 0.2561 - val_accuracy: 0.8990\n",
            "Epoch 48/100\n",
            "125/125 [==============================] - 11s 91ms/step - loss: 0.2384 - accuracy: 0.9122 - val_loss: 0.2751 - val_accuracy: 0.9030\n",
            "Epoch 49/100\n",
            "125/125 [==============================] - 13s 102ms/step - loss: 0.2264 - accuracy: 0.9170 - val_loss: 0.2763 - val_accuracy: 0.8920\n",
            "Epoch 50/100\n",
            "125/125 [==============================] - 11s 89ms/step - loss: 0.2299 - accuracy: 0.9183 - val_loss: 0.2643 - val_accuracy: 0.9030\n",
            "Epoch 51/100\n",
            "125/125 [==============================] - 11s 84ms/step - loss: 0.2377 - accuracy: 0.9158 - val_loss: 0.2117 - val_accuracy: 0.9215\n",
            "Epoch 52/100\n",
            "125/125 [==============================] - 11s 91ms/step - loss: 0.2495 - accuracy: 0.9061 - val_loss: 0.2334 - val_accuracy: 0.9100\n",
            "Epoch 53/100\n",
            "125/125 [==============================] - 11s 91ms/step - loss: 0.2356 - accuracy: 0.9124 - val_loss: 0.2880 - val_accuracy: 0.8795\n",
            "Epoch 54/100\n",
            "125/125 [==============================] - 11s 91ms/step - loss: 0.2226 - accuracy: 0.9183 - val_loss: 0.2282 - val_accuracy: 0.9180\n",
            "Epoch 55/100\n",
            "125/125 [==============================] - 11s 91ms/step - loss: 0.2447 - accuracy: 0.9110 - val_loss: 0.2220 - val_accuracy: 0.9175\n",
            "Epoch 56/100\n",
            "125/125 [==============================] - 11s 91ms/step - loss: 0.2627 - accuracy: 0.9051 - val_loss: 0.2573 - val_accuracy: 0.9020\n",
            "Epoch 57/100\n",
            "125/125 [==============================] - 12s 95ms/step - loss: 0.2301 - accuracy: 0.9180 - val_loss: 0.2352 - val_accuracy: 0.9190\n",
            "Epoch 58/100\n",
            "125/125 [==============================] - 11s 89ms/step - loss: 0.2271 - accuracy: 0.9178 - val_loss: 0.1995 - val_accuracy: 0.9285\n",
            "Epoch 59/100\n",
            "125/125 [==============================] - 11s 89ms/step - loss: 0.2237 - accuracy: 0.9197 - val_loss: 0.2071 - val_accuracy: 0.9250\n",
            "Epoch 60/100\n",
            "125/125 [==============================] - 12s 94ms/step - loss: 0.2207 - accuracy: 0.9195 - val_loss: 0.2195 - val_accuracy: 0.9220\n",
            "Epoch 61/100\n",
            "125/125 [==============================] - 11s 91ms/step - loss: 0.2325 - accuracy: 0.9119 - val_loss: 0.3859 - val_accuracy: 0.8395\n",
            "Epoch 62/100\n",
            "125/125 [==============================] - 11s 92ms/step - loss: 0.2339 - accuracy: 0.9121 - val_loss: 0.2618 - val_accuracy: 0.9015\n",
            "Epoch 63/100\n",
            "125/125 [==============================] - 11s 92ms/step - loss: 0.2205 - accuracy: 0.9159 - val_loss: 0.2100 - val_accuracy: 0.9215\n",
            "Epoch 64/100\n",
            "125/125 [==============================] - 11s 91ms/step - loss: 0.2115 - accuracy: 0.9245 - val_loss: 0.2250 - val_accuracy: 0.9140\n",
            "Epoch 65/100\n",
            "125/125 [==============================] - 12s 95ms/step - loss: 0.2281 - accuracy: 0.9179 - val_loss: 0.2407 - val_accuracy: 0.9115\n",
            "Epoch 66/100\n",
            "125/125 [==============================] - 11s 90ms/step - loss: 0.2344 - accuracy: 0.9130 - val_loss: 0.2499 - val_accuracy: 0.9140\n",
            "Epoch 67/100\n",
            "125/125 [==============================] - 10s 83ms/step - loss: 0.2279 - accuracy: 0.9164 - val_loss: 0.2577 - val_accuracy: 0.9020\n",
            "Epoch 68/100\n",
            "125/125 [==============================] - 11s 91ms/step - loss: 0.2197 - accuracy: 0.9201 - val_loss: 0.2006 - val_accuracy: 0.9255\n",
            "Epoch 69/100\n",
            "125/125 [==============================] - 12s 92ms/step - loss: 0.2258 - accuracy: 0.9196 - val_loss: 0.2294 - val_accuracy: 0.9160\n",
            "Epoch 70/100\n",
            "125/125 [==============================] - 13s 100ms/step - loss: 0.2286 - accuracy: 0.9164 - val_loss: 0.2036 - val_accuracy: 0.9265\n",
            "Epoch 71/100\n",
            "125/125 [==============================] - 12s 92ms/step - loss: 0.2184 - accuracy: 0.9197 - val_loss: 0.2337 - val_accuracy: 0.9085\n",
            "Epoch 72/100\n",
            "125/125 [==============================] - 11s 92ms/step - loss: 0.2231 - accuracy: 0.9166 - val_loss: 0.2058 - val_accuracy: 0.9230\n",
            "Epoch 73/100\n",
            "125/125 [==============================] - 11s 92ms/step - loss: 0.2152 - accuracy: 0.9212 - val_loss: 0.2429 - val_accuracy: 0.9115\n",
            "Epoch 74/100\n",
            "125/125 [==============================] - 12s 93ms/step - loss: 0.2209 - accuracy: 0.9179 - val_loss: 0.2227 - val_accuracy: 0.9125\n",
            "Epoch 75/100\n",
            "125/125 [==============================] - 11s 90ms/step - loss: 0.2304 - accuracy: 0.9159 - val_loss: 0.1964 - val_accuracy: 0.9285\n",
            "Epoch 76/100\n",
            "125/125 [==============================] - 11s 84ms/step - loss: 0.2264 - accuracy: 0.9140 - val_loss: 0.2479 - val_accuracy: 0.9050\n",
            "Epoch 77/100\n",
            "125/125 [==============================] - 11s 92ms/step - loss: 0.2205 - accuracy: 0.9214 - val_loss: 0.2530 - val_accuracy: 0.9080\n",
            "Epoch 78/100\n",
            "125/125 [==============================] - 12s 92ms/step - loss: 0.2182 - accuracy: 0.9227 - val_loss: 0.3300 - val_accuracy: 0.8865\n",
            "Epoch 79/100\n",
            "125/125 [==============================] - 11s 92ms/step - loss: 0.2238 - accuracy: 0.9189 - val_loss: 0.2665 - val_accuracy: 0.8925\n",
            "Epoch 80/100\n",
            "125/125 [==============================] - 11s 91ms/step - loss: 0.2457 - accuracy: 0.9038 - val_loss: 0.3973 - val_accuracy: 0.8910\n",
            "Epoch 81/100\n",
            "125/125 [==============================] - 13s 101ms/step - loss: 0.2392 - accuracy: 0.9129 - val_loss: 0.2078 - val_accuracy: 0.9245\n",
            "Epoch 82/100\n",
            "125/125 [==============================] - 12s 94ms/step - loss: 0.2174 - accuracy: 0.9186 - val_loss: 0.2103 - val_accuracy: 0.9150\n",
            "Epoch 83/100\n",
            "125/125 [==============================] - 11s 91ms/step - loss: 0.2287 - accuracy: 0.9153 - val_loss: 0.2349 - val_accuracy: 0.9215\n",
            "Epoch 84/100\n",
            "125/125 [==============================] - 11s 84ms/step - loss: 0.2275 - accuracy: 0.9139 - val_loss: 0.2469 - val_accuracy: 0.8970\n",
            "Epoch 85/100\n",
            "125/125 [==============================] - 11s 90ms/step - loss: 0.2135 - accuracy: 0.9200 - val_loss: 0.2588 - val_accuracy: 0.8950\n",
            "Epoch 86/100\n",
            "125/125 [==============================] - 11s 91ms/step - loss: 0.2358 - accuracy: 0.9119 - val_loss: 0.2197 - val_accuracy: 0.9170\n",
            "Epoch 87/100\n",
            "125/125 [==============================] - 11s 91ms/step - loss: 0.2198 - accuracy: 0.9195 - val_loss: 0.2478 - val_accuracy: 0.8980\n",
            "Epoch 88/100\n",
            "125/125 [==============================] - 11s 91ms/step - loss: 0.2129 - accuracy: 0.9250 - val_loss: 0.3374 - val_accuracy: 0.8665\n",
            "Epoch 89/100\n",
            "125/125 [==============================] - 12s 92ms/step - loss: 0.2369 - accuracy: 0.9120 - val_loss: 0.2424 - val_accuracy: 0.9105\n",
            "Epoch 90/100\n",
            "125/125 [==============================] - 12s 93ms/step - loss: 0.2239 - accuracy: 0.9164 - val_loss: 0.2309 - val_accuracy: 0.9160\n",
            "Epoch 91/100\n",
            "125/125 [==============================] - 12s 93ms/step - loss: 0.2388 - accuracy: 0.9120 - val_loss: 0.2938 - val_accuracy: 0.8760\n",
            "Epoch 92/100\n",
            "125/125 [==============================] - 13s 102ms/step - loss: 0.2321 - accuracy: 0.9137 - val_loss: 0.2371 - val_accuracy: 0.9065\n",
            "Epoch 93/100\n",
            "125/125 [==============================] - 10s 83ms/step - loss: 0.2121 - accuracy: 0.9215 - val_loss: 0.2120 - val_accuracy: 0.9185\n",
            "Epoch 94/100\n",
            "125/125 [==============================] - 11s 89ms/step - loss: 0.2289 - accuracy: 0.9169 - val_loss: 0.2101 - val_accuracy: 0.9200\n",
            "Epoch 95/100\n",
            "125/125 [==============================] - 11s 91ms/step - loss: 0.2286 - accuracy: 0.9183 - val_loss: 0.2546 - val_accuracy: 0.9055\n",
            "Epoch 96/100\n",
            "125/125 [==============================] - 11s 91ms/step - loss: 0.2101 - accuracy: 0.9215 - val_loss: 0.2379 - val_accuracy: 0.9100\n",
            "Epoch 97/100\n",
            "125/125 [==============================] - 11s 92ms/step - loss: 0.2057 - accuracy: 0.9286 - val_loss: 0.2471 - val_accuracy: 0.9005\n",
            "Epoch 98/100\n",
            "125/125 [==============================] - 11s 92ms/step - loss: 0.2256 - accuracy: 0.9168 - val_loss: 0.2181 - val_accuracy: 0.9205\n",
            "Epoch 99/100\n",
            "125/125 [==============================] - 11s 92ms/step - loss: 0.2231 - accuracy: 0.9175 - val_loss: 0.2488 - val_accuracy: 0.8995\n",
            "Epoch 100/100\n",
            "125/125 [==============================] - 12s 93ms/step - loss: 0.2210 - accuracy: 0.9185 - val_loss: 0.1963 - val_accuracy: 0.9260\n"
          ]
        },
        {
          "output_type": "display_data",
          "data": {
            "text/plain": [
              "<Figure size 640x480 with 1 Axes>"
            ],
            "image/png": "[encoded data removed]"
          },
          "metadata": {}
        },
        {
          "output_type": "display_data",
          "data": {
            "text/plain": [
              "<Figure size 640x480 with 1 Axes>"
            ],
            "image/png": "[encoded data removed]"
          },
          "metadata": {}
        }
      ]
    },
    {
      "cell_type": "markdown",
      "source": [
        "# Test"
      ],
      "metadata": {
        "id": "zU1RbFm0BKap"
      }
    },
    {
      "cell_type": "code",
      "source": [
        "res = 0\n",
        "for i in range(100):\n",
        "\n",
        "  signal = generate_signal(32 ,i%2 )\n",
        "\n",
        "  # Normalize the signal to range [0, 1]\n",
        "  signal_normalized = (signal - np.min(signal)) / (np.max(signal) - np.min(signal))\n",
        "\n",
        "  # Compute autocorrelation\n",
        "  autocorr = compute_autocorrelation(signal)\n",
        "\n",
        "  # Normalize the autocorrelation to range [0, 1]\n",
        "  autocorr_normalized = (autocorr - np.min(autocorr)) / (np.max(autocorr) - np.min(autocorr))\n",
        "\n",
        "  # Combine original signal and its autocorrelation\n",
        "  combined_signal = np.stack([signal_normalized, autocorr_normalized], axis=-1)\n",
        "  combined_signal = combined_signal[np.newaxis , :]\n",
        "\n",
        "  print(str(i) + ' ' + str(combined_signal.shape))\n",
        "  predict = model.predict(combined_signal)\n",
        "  print('ground :' , str(i%2) + ' predict :' + str(int(predict[0][0]<predict[0][1])))\n",
        "\n",
        "  if (int(predict[0][0]<predict[0][1]) == i%2):\n",
        "    res += 1\n",
        "\n",
        "print('total results (%): ' , str(res/(i+1)))"
      ],
      "metadata": {
        "colab": {
          "base_uri": "https://localhost:8080/"
        },
        "id": "Mp9cKsNJkEhb",
        "outputId": "bc79f906-b6ac-4874-9313-c3484887ff59"
      },
      "execution_count": 42,
      "outputs": [
        {
          "output_type": "stream",
          "name": "stdout",
          "text": [
            "0 (1, 32, 2)\n",
            "1/1 [==============================] - 0s 26ms/step\n",
            "ground : 0 predict :0\n",
            "1 (1, 32, 2)\n",
            "1/1 [==============================] - 0s 26ms/step\n",
            "ground : 1 predict :1\n",
            "2 (1, 32, 2)\n",
            "1/1 [==============================] - 0s 29ms/step\n",
            "ground : 0 predict :0\n",
            "3 (1, 32, 2)\n",
            "1/1 [==============================] - 0s 26ms/step\n",
            "ground : 1 predict :1\n",
            "4 (1, 32, 2)\n",
            "1/1 [==============================] - 0s 26ms/step\n",
            "ground : 0 predict :0\n",
            "5 (1, 32, 2)\n",
            "1/1 [==============================] - 0s 25ms/step\n",
            "ground : 1 predict :1\n",
            "6 (1, 32, 2)\n",
            "1/1 [==============================] - 0s 25ms/step\n",
            "ground : 0 predict :0\n",
            "7 (1, 32, 2)\n",
            "1/1 [==============================] - 0s 23ms/step\n",
            "ground : 1 predict :1\n",
            "8 (1, 32, 2)\n",
            "1/1 [==============================] - 0s 24ms/step\n",
            "ground : 0 predict :0\n",
            "9 (1, 32, 2)\n",
            "1/1 [==============================] - 0s 28ms/step\n",
            "ground : 1 predict :1\n",
            "10 (1, 32, 2)\n",
            "1/1 [==============================] - 0s 23ms/step\n",
            "ground : 0 predict :0\n",
            "11 (1, 32, 2)\n",
            "1/1 [==============================] - 0s 23ms/step\n",
            "ground : 1 predict :1\n",
            "12 (1, 32, 2)\n",
            "1/1 [==============================] - 0s 26ms/step\n",
            "ground : 0 predict :0\n",
            "13 (1, 32, 2)\n",
            "1/1 [==============================] - 0s 24ms/step\n",
            "ground : 1 predict :1\n",
            "14 (1, 32, 2)\n",
            "1/1 [==============================] - 0s 31ms/step\n",
            "ground : 0 predict :0\n",
            "15 (1, 32, 2)\n",
            "1/1 [==============================] - 0s 22ms/step\n",
            "ground : 1 predict :1\n",
            "16 (1, 32, 2)\n",
            "1/1 [==============================] - 0s 36ms/step\n",
            "ground : 0 predict :0\n",
            "17 (1, 32, 2)\n",
            "1/1 [==============================] - 0s 23ms/step\n",
            "ground : 1 predict :1\n",
            "18 (1, 32, 2)\n",
            "1/1 [==============================] - 0s 22ms/step\n",
            "ground : 0 predict :0\n",
            "19 (1, 32, 2)\n",
            "1/1 [==============================] - 0s 23ms/step\n",
            "ground : 1 predict :1\n",
            "20 (1, 32, 2)\n",
            "1/1 [==============================] - 0s 23ms/step\n",
            "ground : 0 predict :0\n",
            "21 (1, 32, 2)\n",
            "1/1 [==============================] - 0s 23ms/step\n",
            "ground : 1 predict :1\n",
            "22 (1, 32, 2)\n",
            "1/1 [==============================] - 0s 25ms/step\n",
            "ground : 0 predict :0\n",
            "23 (1, 32, 2)\n",
            "1/1 [==============================] - 0s 23ms/step\n",
            "ground : 1 predict :1\n",
            "24 (1, 32, 2)\n",
            "1/1 [==============================] - 0s 23ms/step\n",
            "ground : 0 predict :0\n",
            "25 (1, 32, 2)\n",
            "1/1 [==============================] - 0s 25ms/step\n",
            "ground : 1 predict :1\n",
            "26 (1, 32, 2)\n",
            "1/1 [==============================] - 0s 27ms/step\n",
            "ground : 0 predict :0\n",
            "27 (1, 32, 2)\n",
            "1/1 [==============================] - 0s 24ms/step\n",
            "ground : 1 predict :0\n",
            "28 (1, 32, 2)\n",
            "1/1 [==============================] - 0s 23ms/step\n",
            "ground : 0 predict :0\n",
            "29 (1, 32, 2)\n",
            "1/1 [==============================] - 0s 22ms/step\n",
            "ground : 1 predict :1\n",
            "30 (1, 32, 2)\n",
            "1/1 [==============================] - 0s 23ms/step\n",
            "ground : 0 predict :0\n",
            "31 (1, 32, 2)\n",
            "1/1 [==============================] - 0s 28ms/step\n",
            "ground : 1 predict :1\n",
            "32 (1, 32, 2)\n",
            "1/1 [==============================] - 0s 27ms/step\n",
            "ground : 0 predict :0\n",
            "33 (1, 32, 2)\n",
            "1/1 [==============================] - 0s 24ms/step\n",
            "ground : 1 predict :1\n",
            "34 (1, 32, 2)\n",
            "1/1 [==============================] - 0s 24ms/step\n",
            "ground : 0 predict :0\n",
            "35 (1, 32, 2)\n",
            "1/1 [==============================] - 0s 25ms/step\n",
            "ground : 1 predict :1\n",
            "36 (1, 32, 2)\n",
            "1/1 [==============================] - 0s 24ms/step\n",
            "ground : 0 predict :0\n",
            "37 (1, 32, 2)\n",
            "1/1 [==============================] - 0s 23ms/step\n",
            "ground : 1 predict :1\n",
            "38 (1, 32, 2)\n",
            "1/1 [==============================] - 0s 24ms/step\n",
            "ground : 0 predict :0\n",
            "39 (1, 32, 2)\n",
            "1/1 [==============================] - 0s 24ms/step\n",
            "ground : 1 predict :0\n",
            "40 (1, 32, 2)\n",
            "1/1 [==============================] - 0s 22ms/step\n",
            "ground : 0 predict :0\n",
            "41 (1, 32, 2)\n",
            "1/1 [==============================] - 0s 23ms/step\n",
            "ground : 1 predict :1\n",
            "42 (1, 32, 2)\n",
            "1/1 [==============================] - 0s 25ms/step\n",
            "ground : 0 predict :0\n",
            "43 (1, 32, 2)\n",
            "1/1 [==============================] - 0s 23ms/step\n",
            "ground : 1 predict :0\n",
            "44 (1, 32, 2)\n",
            "1/1 [==============================] - 0s 23ms/step\n",
            "ground : 0 predict :0\n",
            "45 (1, 32, 2)\n",
            "1/1 [==============================] - 0s 23ms/step\n",
            "ground : 1 predict :1\n",
            "46 (1, 32, 2)\n",
            "1/1 [==============================] - 0s 25ms/step\n",
            "ground : 0 predict :0\n",
            "47 (1, 32, 2)\n",
            "1/1 [==============================] - 0s 22ms/step\n",
            "ground : 1 predict :1\n",
            "48 (1, 32, 2)\n",
            "1/1 [==============================] - 0s 23ms/step\n",
            "ground : 0 predict :0\n",
            "49 (1, 32, 2)\n",
            "1/1 [==============================] - 0s 28ms/step\n",
            "ground : 1 predict :1\n",
            "50 (1, 32, 2)\n",
            "1/1 [==============================] - 0s 28ms/step\n",
            "ground : 0 predict :0\n",
            "51 (1, 32, 2)\n",
            "1/1 [==============================] - 0s 24ms/step\n",
            "ground : 1 predict :1\n",
            "52 (1, 32, 2)\n",
            "1/1 [==============================] - 0s 23ms/step\n",
            "ground : 0 predict :0\n",
            "53 (1, 32, 2)\n",
            "1/1 [==============================] - 0s 22ms/step\n",
            "ground : 1 predict :1\n",
            "54 (1, 32, 2)\n",
            "1/1 [==============================] - 0s 23ms/step\n",
            "ground : 0 predict :0\n",
            "55 (1, 32, 2)\n",
            "1/1 [==============================] - 0s 25ms/step\n",
            "ground : 1 predict :1\n",
            "56 (1, 32, 2)\n",
            "1/1 [==============================] - 0s 24ms/step\n",
            "ground : 0 predict :0\n",
            "57 (1, 32, 2)\n",
            "1/1 [==============================] - 0s 25ms/step\n",
            "ground : 1 predict :1\n",
            "58 (1, 32, 2)\n",
            "1/1 [==============================] - 0s 23ms/step\n",
            "ground : 0 predict :0\n",
            "59 (1, 32, 2)\n",
            "1/1 [==============================] - 0s 23ms/step\n",
            "ground : 1 predict :1\n",
            "60 (1, 32, 2)\n",
            "1/1 [==============================] - 0s 22ms/step\n",
            "ground : 0 predict :0\n",
            "61 (1, 32, 2)\n",
            "1/1 [==============================] - 0s 25ms/step\n",
            "ground : 1 predict :1\n",
            "62 (1, 32, 2)\n",
            "1/1 [==============================] - 0s 22ms/step\n",
            "ground : 0 predict :0\n",
            "63 (1, 32, 2)\n",
            "1/1 [==============================] - 0s 24ms/step\n",
            "ground : 1 predict :1\n",
            "64 (1, 32, 2)\n",
            "1/1 [==============================] - 0s 23ms/step\n",
            "ground : 0 predict :1\n",
            "65 (1, 32, 2)\n",
            "1/1 [==============================] - 0s 23ms/step\n",
            "ground : 1 predict :1\n",
            "66 (1, 32, 2)\n",
            "1/1 [==============================] - 0s 23ms/step\n",
            "ground : 0 predict :0\n",
            "67 (1, 32, 2)\n",
            "1/1 [==============================] - 0s 25ms/step\n",
            "ground : 1 predict :1\n",
            "68 (1, 32, 2)\n",
            "1/1 [==============================] - 0s 30ms/step\n",
            "ground : 0 predict :0\n",
            "69 (1, 32, 2)\n",
            "1/1 [==============================] - 0s 25ms/step\n",
            "ground : 1 predict :1\n",
            "70 (1, 32, 2)\n",
            "1/1 [==============================] - 0s 23ms/step\n",
            "ground : 0 predict :0\n",
            "71 (1, 32, 2)\n",
            "1/1 [==============================] - 0s 23ms/step\n",
            "ground : 1 predict :1\n",
            "72 (1, 32, 2)\n",
            "1/1 [==============================] - 0s 25ms/step\n",
            "ground : 0 predict :0\n",
            "73 (1, 32, 2)\n",
            "1/1 [==============================] - 0s 23ms/step\n",
            "ground : 1 predict :1\n",
            "74 (1, 32, 2)\n",
            "1/1 [==============================] - 0s 26ms/step\n",
            "ground : 0 predict :0\n",
            "75 (1, 32, 2)\n",
            "1/1 [==============================] - 0s 23ms/step\n",
            "ground : 1 predict :1\n",
            "76 (1, 32, 2)\n",
            "1/1 [==============================] - 0s 23ms/step\n",
            "ground : 0 predict :0\n",
            "77 (1, 32, 2)\n",
            "1/1 [==============================] - 0s 21ms/step\n",
            "ground : 1 predict :1\n",
            "78 (1, 32, 2)\n",
            "1/1 [==============================] - 0s 25ms/step\n",
            "ground : 0 predict :0\n",
            "79 (1, 32, 2)\n",
            "1/1 [==============================] - 0s 37ms/step\n",
            "ground : 1 predict :1\n",
            "80 (1, 32, 2)\n",
            "1/1 [==============================] - 0s 38ms/step\n",
            "ground : 0 predict :0\n",
            "81 (1, 32, 2)\n",
            "1/1 [==============================] - 0s 39ms/step\n",
            "ground : 1 predict :1\n",
            "82 (1, 32, 2)\n",
            "1/1 [==============================] - 0s 52ms/step\n",
            "ground : 0 predict :0\n",
            "83 (1, 32, 2)\n",
            "1/1 [==============================] - 0s 32ms/step\n",
            "ground : 1 predict :1\n",
            "84 (1, 32, 2)\n",
            "1/1 [==============================] - 0s 35ms/step\n",
            "ground : 0 predict :0\n",
            "85 (1, 32, 2)\n",
            "1/1 [==============================] - 0s 35ms/step\n",
            "ground : 1 predict :1\n",
            "86 (1, 32, 2)\n",
            "1/1 [==============================] - 0s 39ms/step\n",
            "ground : 0 predict :0\n",
            "87 (1, 32, 2)\n",
            "1/1 [==============================] - 0s 34ms/step\n",
            "ground : 1 predict :1\n",
            "88 (1, 32, 2)\n",
            "1/1 [==============================] - 0s 38ms/step\n",
            "ground : 0 predict :0\n",
            "89 (1, 32, 2)\n",
            "1/1 [==============================] - 0s 43ms/step\n",
            "ground : 1 predict :1\n",
            "90 (1, 32, 2)\n",
            "1/1 [==============================] - 0s 43ms/step\n",
            "ground : 0 predict :0\n",
            "91 (1, 32, 2)\n",
            "1/1 [==============================] - 0s 40ms/step\n",
            "ground : 1 predict :0\n",
            "92 (1, 32, 2)\n",
            "1/1 [==============================] - 0s 33ms/step\n",
            "ground : 0 predict :0\n",
            "93 (1, 32, 2)\n",
            "1/1 [==============================] - 0s 37ms/step\n",
            "ground : 1 predict :1\n",
            "94 (1, 32, 2)\n",
            "1/1 [==============================] - 0s 40ms/step\n",
            "ground : 0 predict :0\n",
            "95 (1, 32, 2)\n",
            "1/1 [==============================] - 0s 40ms/step\n",
            "ground : 1 predict :1\n",
            "96 (1, 32, 2)\n",
            "1/1 [==============================] - 0s 36ms/step\n",
            "ground : 0 predict :0\n",
            "97 (1, 32, 2)\n",
            "1/1 [==============================] - 0s 24ms/step\n",
            "ground : 1 predict :0\n",
            "98 (1, 32, 2)\n",
            "1/1 [==============================] - 0s 35ms/step\n",
            "ground : 0 predict :0\n",
            "99 (1, 32, 2)\n",
            "1/1 [==============================] - 0s 25ms/step\n",
            "ground : 1 predict :1\n",
            "total results (%):  0.94\n"
          ]
        }
      ]
    }
  ],
  "metadata": {
    "colab": {
      "provenance": [],
      "gpuType": "T4"
    },
    "kernelspec": {
      "display_name": "Python 3",
      "name": "python3"
    },
    "accelerator": "GPU"
  },
  "nbformat": 4,
  "nbformat_minor": 0
}